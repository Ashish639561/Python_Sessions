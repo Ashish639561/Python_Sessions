{
 "cells": [
  {
   "cell_type": "markdown",
   "id": "2a332e89-f915-4a1e-ad90-dbe7092c621c",
   "metadata": {},
   "source": [
    "### Type Casting\n",
    "- int-->int\n",
    "- int-->float\n",
    "- int-->string\n",
    "- int-->complex\n",
    "- int-->bool\n",
    "- int-->none\n",
    "\n",
    " - --------------------------------------------------------------------------------\n",
    "- float-->float  \n",
    "- float-->int\n",
    "- float-->string\n",
    "- float-->complex\n",
    "- float-->bool\n",
    "- float-->none"
   ]
  },
  {
   "cell_type": "markdown",
   "id": "4e4e3dd5-855f-4c0e-b39e-cee129825ce6",
   "metadata": {},
   "source": [
    "**int to other data types convertion**"
   ]
  },
  {
   "cell_type": "markdown",
   "id": "a2fb6796-c985-4811-a8b8-36dd9aa2d70c",
   "metadata": {},
   "source": [
    "$case -0$ ==>*int()*"
   ]
  },
  {
   "cell_type": "code",
   "execution_count": 4,
   "id": "f50eb6f0-8dfe-4940-9e35-a965fd220b87",
   "metadata": {},
   "outputs": [
    {
     "name": "stdout",
     "output_type": "stream",
     "text": [
      "0 <class 'int'>\n"
     ]
    }
   ],
   "source": [
    "a=int()\n",
    "print(a,type(a))"
   ]
  },
  {
   "cell_type": "markdown",
   "id": "cca1953d-36c9-4567-af5c-2136075efa5c",
   "metadata": {},
   "source": [
    "$case-1$  =>*int to int*"
   ]
  },
  {
   "cell_type": "code",
   "execution_count": 5,
   "id": "84667ae3-7fa6-4a1e-87ce-1f08051d42eb",
   "metadata": {},
   "outputs": [
    {
     "data": {
      "text/plain": [
       "int"
      ]
     },
     "execution_count": 5,
     "metadata": {},
     "output_type": "execute_result"
    }
   ],
   "source": [
    "num=25\n",
    "type(num)"
   ]
  },
  {
   "cell_type": "code",
   "execution_count": 6,
   "id": "6c3b29f2-d2c6-48ea-aba8-95870fc688b8",
   "metadata": {},
   "outputs": [
    {
     "data": {
      "text/plain": [
       "25"
      ]
     },
     "execution_count": 6,
     "metadata": {},
     "output_type": "execute_result"
    }
   ],
   "source": [
    "num1=int(num)\n",
    "num1"
   ]
  },
  {
   "cell_type": "markdown",
   "id": "50b08065-39c2-44f7-b03e-c43082c92432",
   "metadata": {},
   "source": [
    "$case -2$ *==>int to float*"
   ]
  },
  {
   "cell_type": "code",
   "execution_count": 7,
   "id": "b8a698fa-0e36-4c58-8d70-b764942c7e5a",
   "metadata": {},
   "outputs": [
    {
     "data": {
      "text/plain": [
       "25.0"
      ]
     },
     "execution_count": 7,
     "metadata": {},
     "output_type": "execute_result"
    }
   ],
   "source": [
    "num2=float(num)\n",
    "num2"
   ]
  },
  {
   "cell_type": "code",
   "execution_count": 8,
   "id": "a1f35031-634e-4177-b9f2-ced32e57f882",
   "metadata": {},
   "outputs": [
    {
     "data": {
      "text/plain": [
       "float"
      ]
     },
     "execution_count": 8,
     "metadata": {},
     "output_type": "execute_result"
    }
   ],
   "source": [
    "type(num2)"
   ]
  },
  {
   "cell_type": "markdown",
   "id": "40d52907-7815-4ca8-b444-547c1d38a03c",
   "metadata": {},
   "source": [
    "$case -3$ *==>int to string*"
   ]
  },
  {
   "cell_type": "code",
   "execution_count": 9,
   "id": "96c33b28-099f-425a-93de-db7a5c8fc897",
   "metadata": {},
   "outputs": [
    {
     "data": {
      "text/plain": [
       "'25'"
      ]
     },
     "execution_count": 9,
     "metadata": {},
     "output_type": "execute_result"
    }
   ],
   "source": [
    "num3=str(num)\n",
    "num3"
   ]
  },
  {
   "cell_type": "code",
   "execution_count": 10,
   "id": "edd2bdf6-c86a-4550-90d2-20700aef5354",
   "metadata": {},
   "outputs": [
    {
     "data": {
      "text/plain": [
       "str"
      ]
     },
     "execution_count": 10,
     "metadata": {},
     "output_type": "execute_result"
    }
   ],
   "source": [
    "type(num3)"
   ]
  },
  {
   "cell_type": "markdown",
   "id": "6d0657f3-a33d-43bc-aac8-71309b27c9a7",
   "metadata": {},
   "source": [
    "$case -4$ *==>int to complex*"
   ]
  },
  {
   "cell_type": "code",
   "execution_count": 11,
   "id": "353110a7-4483-432f-a529-7cd2fee45549",
   "metadata": {},
   "outputs": [
    {
     "data": {
      "text/plain": [
       "(25+0j)"
      ]
     },
     "execution_count": 11,
     "metadata": {},
     "output_type": "execute_result"
    }
   ],
   "source": [
    "num4=complex(num)\n",
    "num4"
   ]
  },
  {
   "cell_type": "markdown",
   "id": "3ab96ae5-6a4d-4149-90f0-243e6e5f02aa",
   "metadata": {},
   "source": [
    "$case -5$ *==>int to bool*"
   ]
  },
  {
   "cell_type": "code",
   "execution_count": 12,
   "id": "5cb0a97c-1c9a-4517-a3c6-8b51dda699cc",
   "metadata": {},
   "outputs": [
    {
     "data": {
      "text/plain": [
       "True"
      ]
     },
     "execution_count": 12,
     "metadata": {},
     "output_type": "execute_result"
    }
   ],
   "source": [
    "num5=bool(num)\n",
    "num5"
   ]
  },
  {
   "cell_type": "code",
   "execution_count": 13,
   "id": "946e5d99-fcb4-4f59-be6b-e0917bf59c8c",
   "metadata": {},
   "outputs": [
    {
     "data": {
      "text/plain": [
       "False"
      ]
     },
     "execution_count": 13,
     "metadata": {},
     "output_type": "execute_result"
    }
   ],
   "source": [
    "bool(0)"
   ]
  },
  {
   "cell_type": "markdown",
   "id": "8a45f079-1522-44cb-b603-d27d1fef03dd",
   "metadata": {},
   "source": [
    "**Note**       \n",
    "*other then 0 is everything is true in boolean function*\n",
    "\n",
    "*bool(0)-->False*"
   ]
  },
  {
   "cell_type": "markdown",
   "id": "3876a269-2837-461e-9928-c3387ec1c456",
   "metadata": {},
   "source": [
    "**Summary of int type convertion**"
   ]
  },
  {
   "cell_type": "markdown",
   "id": "9edd94b4-5759-4d6c-ade5-2cac12a3baa5",
   "metadata": {},
   "source": [
    "num=25\n",
    "int_number=int(num)   - #25\n",
    "float_num=float(num)  - #25.0\n",
    "string_num=str(num)   - #\"25\"\n",
    "complex_num=complex(num) - #25+0j\n",
    "bool_number=bool(num) - #True"
   ]
  },
  {
   "cell_type": "markdown",
   "id": "fe8ff335-db07-4b15-93fc-0114933c9d7f",
   "metadata": {},
   "source": [
    "**float to other data types convertion**"
   ]
  },
  {
   "cell_type": "markdown",
   "id": "e5767a23-56bb-462e-aa5d-c4f8b698b8f5",
   "metadata": {},
   "source": [
    "$case -0$ ==>*float()*"
   ]
  },
  {
   "cell_type": "code",
   "execution_count": 14,
   "id": "e6e6bc33-8016-461a-a557-10ea3174d72b",
   "metadata": {},
   "outputs": [
    {
     "name": "stdout",
     "output_type": "stream",
     "text": [
      "0.0 <class 'float'>\n"
     ]
    }
   ],
   "source": [
    "a=float()\n",
    "print(a,type(a))"
   ]
  },
  {
   "cell_type": "markdown",
   "id": "c0cf976c-75d5-4c32-a9cb-5f2ff2ec02bd",
   "metadata": {},
   "source": [
    "$case -1$==>*float to int*"
   ]
  },
  {
   "cell_type": "code",
   "execution_count": 15,
   "id": "53d2275c-52ce-4e02-9e2f-dffe830e05d9",
   "metadata": {},
   "outputs": [
    {
     "data": {
      "text/plain": [
       "float"
      ]
     },
     "execution_count": 15,
     "metadata": {},
     "output_type": "execute_result"
    }
   ],
   "source": [
    "num=25.0\n",
    "type(num)"
   ]
  },
  {
   "cell_type": "code",
   "execution_count": 16,
   "id": "489f1678-5420-47fd-8a7b-d8b4e4b79324",
   "metadata": {},
   "outputs": [
    {
     "name": "stdout",
     "output_type": "stream",
     "text": [
      "25 <class 'int'>\n"
     ]
    }
   ],
   "source": [
    "num1=int(num)\n",
    "print(num1,type(num1))"
   ]
  },
  {
   "cell_type": "markdown",
   "id": "f3952131-5bf7-4bfb-aed9-1424050d8687",
   "metadata": {},
   "source": [
    "$case -2$==>*float to float*"
   ]
  },
  {
   "cell_type": "code",
   "execution_count": 17,
   "id": "581cf0f9-70c7-4684-b6f3-9ad72d0a9f57",
   "metadata": {},
   "outputs": [
    {
     "name": "stdout",
     "output_type": "stream",
     "text": [
      "25.0 <class 'float'>\n"
     ]
    }
   ],
   "source": [
    "num2=float(num)\n",
    "print(num2,type(num2))"
   ]
  },
  {
   "cell_type": "markdown",
   "id": "af8fe90b-d53d-4fdc-b10a-8a8f27066d0e",
   "metadata": {},
   "source": [
    "$case -3$==>*float to string*"
   ]
  },
  {
   "cell_type": "code",
   "execution_count": 18,
   "id": "e526a13f-beb7-4304-ad21-6c18023de8a2",
   "metadata": {},
   "outputs": [
    {
     "name": "stdout",
     "output_type": "stream",
     "text": [
      "25.0 <class 'str'>\n"
     ]
    }
   ],
   "source": [
    "num3=str(num)\n",
    "print(num3,type(num3))"
   ]
  },
  {
   "cell_type": "code",
   "execution_count": 19,
   "id": "2c69e9ff-efdc-457f-a718-4d1d7036479d",
   "metadata": {},
   "outputs": [
    {
     "data": {
      "text/plain": [
       "'30000.0'"
      ]
     },
     "execution_count": 19,
     "metadata": {},
     "output_type": "execute_result"
    }
   ],
   "source": [
    "str(3e4)"
   ]
  },
  {
   "cell_type": "markdown",
   "id": "acf8a93c-5607-4854-9bfd-d58858abaebd",
   "metadata": {},
   "source": [
    "$case -4$==>*float to complex*"
   ]
  },
  {
   "cell_type": "code",
   "execution_count": 20,
   "id": "f4e717af-49a6-4a5e-b84c-9f6e277e7462",
   "metadata": {},
   "outputs": [
    {
     "name": "stdout",
     "output_type": "stream",
     "text": [
      "(25+0j) <class 'complex'>\n"
     ]
    }
   ],
   "source": [
    "num4=complex(num)\n",
    "print(num4,type(num4))"
   ]
  },
  {
   "cell_type": "code",
   "execution_count": 21,
   "id": "a88a7a92-a9cb-4630-8357-63a3281859be",
   "metadata": {},
   "outputs": [
    {
     "data": {
      "text/plain": [
       "(25+6j)"
      ]
     },
     "execution_count": 21,
     "metadata": {},
     "output_type": "execute_result"
    }
   ],
   "source": [
    "complex(num,6)"
   ]
  },
  {
   "cell_type": "markdown",
   "id": "aec8e010-949c-4ec4-8609-c8158cc79608",
   "metadata": {},
   "source": [
    "$case -5$==>*float to bool*"
   ]
  },
  {
   "cell_type": "code",
   "execution_count": 73,
   "id": "ff58b3c0-f126-4c70-9c00-0a1168dcf10d",
   "metadata": {},
   "outputs": [
    {
     "name": "stdout",
     "output_type": "stream",
     "text": [
      "True <class 'bool'>\n"
     ]
    }
   ],
   "source": [
    "num5=bool(num)\n",
    "print(num5,type(num5))"
   ]
  },
  {
   "cell_type": "code",
   "execution_count": 76,
   "id": "d642ef06-6a8b-4510-baf7-4330c2b9e48a",
   "metadata": {},
   "outputs": [
    {
     "data": {
      "text/plain": [
       "False"
      ]
     },
     "execution_count": 76,
     "metadata": {},
     "output_type": "execute_result"
    }
   ],
   "source": [
    "bool(0.0)"
   ]
  },
  {
   "cell_type": "code",
   "execution_count": 78,
   "id": "edd084c9-9c3f-425e-aac2-e7ddfb0c53a5",
   "metadata": {},
   "outputs": [
    {
     "data": {
      "text/plain": [
       "True"
      ]
     },
     "execution_count": 78,
     "metadata": {},
     "output_type": "execute_result"
    }
   ],
   "source": [
    "bool(-2.0)"
   ]
  },
  {
   "cell_type": "markdown",
   "id": "e824e478-5997-4913-a9a8-5ca896d13729",
   "metadata": {},
   "source": [
    "**Note**       \n",
    "*other then 0 is everything is true in boolean function*\n",
    "\n",
    "*bool(0.0)-->False*"
   ]
  },
  {
   "cell_type": "code",
   "execution_count": null,
   "id": "863891e2",
   "metadata": {},
   "outputs": [
    {
     "name": "stdout",
     "output_type": "stream",
     "text": [
      "5\n"
     ]
    }
   ],
   "source": [
    "number=\"0b101\"\n",
    "nums=int(number,base=2)\n",
    "print(nums)"
   ]
  },
  {
   "cell_type": "markdown",
   "id": "81d4cb23",
   "metadata": {},
   "source": [
    "**string to other data type**"
   ]
  },
  {
   "cell_type": "markdown",
   "id": "fdd5dd2e",
   "metadata": {},
   "source": [
    "$ case -1$==> *string to int* "
   ]
  },
  {
   "cell_type": "code",
   "execution_count": 26,
   "id": "2f2e9e39",
   "metadata": {},
   "outputs": [
    {
     "name": "stdout",
     "output_type": "stream",
     "text": [
      "apple\n"
     ]
    }
   ],
   "source": [
    "string_value=\"apple\"    #this is english\n",
    "print(string_value)"
   ]
  },
  {
   "cell_type": "code",
   "execution_count": 25,
   "id": "b5691783",
   "metadata": {},
   "outputs": [
    {
     "ename": "ValueError",
     "evalue": "invalid literal for int() with base 10: 'apple'",
     "output_type": "error",
     "traceback": [
      "\u001b[1;31m---------------------------------------------------------------------------\u001b[0m",
      "\u001b[1;31mValueError\u001b[0m                                Traceback (most recent call last)",
      "Cell \u001b[1;32mIn[25], line 1\u001b[0m\n\u001b[1;32m----> 1\u001b[0m \u001b[38;5;28;43mint\u001b[39;49m\u001b[43m(\u001b[49m\u001b[43mstring_value\u001b[49m\u001b[43m)\u001b[49m   \u001b[38;5;66;03m#this is int and we are converting english to math it gives error\u001b[39;00m\n",
      "\u001b[1;31mValueError\u001b[0m: invalid literal for int() with base 10: 'apple'"
     ]
    }
   ],
   "source": [
    "int(string_value)   #this is int and we are converting english to math it gives error"
   ]
  },
  {
   "cell_type": "markdown",
   "id": "5b657101",
   "metadata": {},
   "source": [
    "$ case -2$==> *string to float* "
   ]
  },
  {
   "cell_type": "code",
   "execution_count": null,
   "id": "f135417c",
   "metadata": {},
   "outputs": [
    {
     "ename": "ValueError",
     "evalue": "could not convert string to float: 'apple'",
     "output_type": "error",
     "traceback": [
      "\u001b[1;31m---------------------------------------------------------------------------\u001b[0m",
      "\u001b[1;31mValueError\u001b[0m                                Traceback (most recent call last)",
      "Cell \u001b[1;32mIn[27], line 1\u001b[0m\n\u001b[1;32m----> 1\u001b[0m \u001b[38;5;28;43mfloat\u001b[39;49m\u001b[43m(\u001b[49m\u001b[43mstring_value\u001b[49m\u001b[43m)\u001b[49m\n",
      "\u001b[1;31mValueError\u001b[0m: could not convert string to float: 'apple'"
     ]
    }
   ],
   "source": [
    "float(string_value) #this is int and we are converting english to math it gives error"
   ]
  },
  {
   "cell_type": "markdown",
   "id": "9823dfcb",
   "metadata": {},
   "source": [
    "$case -3$==>*string to bool*"
   ]
  },
  {
   "cell_type": "code",
   "execution_count": 28,
   "id": "427d6ac0",
   "metadata": {},
   "outputs": [
    {
     "data": {
      "text/plain": [
       "True"
      ]
     },
     "execution_count": 28,
     "metadata": {},
     "output_type": "execute_result"
    }
   ],
   "source": [
    "bool(string_value)"
   ]
  },
  {
   "cell_type": "code",
   "execution_count": null,
   "id": "4a49442b",
   "metadata": {},
   "outputs": [
    {
     "data": {
      "text/plain": [
       "False"
      ]
     },
     "execution_count": 30,
     "metadata": {},
     "output_type": "execute_result"
    }
   ],
   "source": [
    "string_value1=\"\"    #empty string(\"\") gives false and this gives true(\" \") \n",
    "bool(string_value1)"
   ]
  },
  {
   "cell_type": "markdown",
   "id": "d3d9da0b",
   "metadata": {},
   "source": [
    "**Note**\n",
    "        - empty string boolean convertion gives false"
   ]
  },
  {
   "cell_type": "markdown",
   "id": "babb6e88",
   "metadata": {},
   "source": [
    "$case -4$==>*string to complex*"
   ]
  },
  {
   "cell_type": "code",
   "execution_count": 31,
   "id": "d5a8e031",
   "metadata": {},
   "outputs": [
    {
     "ename": "ValueError",
     "evalue": "complex() arg is a malformed string",
     "output_type": "error",
     "traceback": [
      "\u001b[1;31m---------------------------------------------------------------------------\u001b[0m",
      "\u001b[1;31mValueError\u001b[0m                                Traceback (most recent call last)",
      "Cell \u001b[1;32mIn[31], line 1\u001b[0m\n\u001b[1;32m----> 1\u001b[0m \u001b[38;5;28;43mcomplex\u001b[39;49m\u001b[43m(\u001b[49m\u001b[43mstring_value\u001b[49m\u001b[43m)\u001b[49m\n",
      "\u001b[1;31mValueError\u001b[0m: complex() arg is a malformed string"
     ]
    }
   ],
   "source": [
    "complex(string_value)"
   ]
  },
  {
   "cell_type": "code",
   "execution_count": null,
   "id": "b8375086",
   "metadata": {},
   "outputs": [
    {
     "ename": "ValueError",
     "evalue": "invalid literal for int() with base 10: '10.5'",
     "output_type": "error",
     "traceback": [
      "\u001b[1;31m---------------------------------------------------------------------------\u001b[0m",
      "\u001b[1;31mValueError\u001b[0m                                Traceback (most recent call last)",
      "Cell \u001b[1;32mIn[33], line 2\u001b[0m\n\u001b[0;32m      1\u001b[0m str1\u001b[38;5;241m=\u001b[39m\u001b[38;5;124m\"\u001b[39m\u001b[38;5;124m10.5\u001b[39m\u001b[38;5;124m\"\u001b[39m\n\u001b[1;32m----> 2\u001b[0m \u001b[38;5;28;43mint\u001b[39;49m\u001b[43m(\u001b[49m\u001b[43mstr1\u001b[49m\u001b[43m)\u001b[49m\n",
      "\u001b[1;31mValueError\u001b[0m: invalid literal for int() with base 10: '10.5'"
     ]
    }
   ],
   "source": [
    "str1=\"10.5\"\n",
    "int(str1)# gives error"
   ]
  },
  {
   "cell_type": "code",
   "execution_count": null,
   "id": "1b94098e",
   "metadata": {},
   "outputs": [
    {
     "data": {
      "text/plain": [
       "10.5"
      ]
     },
     "execution_count": 34,
     "metadata": {},
     "output_type": "execute_result"
    }
   ],
   "source": [
    "float(str1)"
   ]
  },
  {
   "cell_type": "code",
   "execution_count": 35,
   "id": "888d5e9c",
   "metadata": {},
   "outputs": [
    {
     "data": {
      "text/plain": [
       "(10.5+0j)"
      ]
     },
     "execution_count": 35,
     "metadata": {},
     "output_type": "execute_result"
    }
   ],
   "source": [
    "complex(str1)"
   ]
  },
  {
   "cell_type": "markdown",
   "id": "b48dea63",
   "metadata": {},
   "source": [
    "**bool to other data type**"
   ]
  },
  {
   "cell_type": "code",
   "execution_count": 36,
   "id": "6d21c0f0",
   "metadata": {},
   "outputs": [
    {
     "data": {
      "text/plain": [
       "1"
      ]
     },
     "execution_count": 36,
     "metadata": {},
     "output_type": "execute_result"
    }
   ],
   "source": [
    "val1=True\n",
    "int(val1)"
   ]
  },
  {
   "cell_type": "code",
   "execution_count": 37,
   "id": "defa89e5",
   "metadata": {},
   "outputs": [
    {
     "data": {
      "text/plain": [
       "1.0"
      ]
     },
     "execution_count": 37,
     "metadata": {},
     "output_type": "execute_result"
    }
   ],
   "source": [
    "float(val1)"
   ]
  },
  {
   "cell_type": "code",
   "execution_count": 38,
   "id": "4b947cd6",
   "metadata": {},
   "outputs": [
    {
     "data": {
      "text/plain": [
       "'True'"
      ]
     },
     "execution_count": 38,
     "metadata": {},
     "output_type": "execute_result"
    }
   ],
   "source": [
    "str(val1)"
   ]
  },
  {
   "cell_type": "code",
   "execution_count": 39,
   "id": "42dc0805",
   "metadata": {},
   "outputs": [
    {
     "data": {
      "text/plain": [
       "(1+0j)"
      ]
     },
     "execution_count": 39,
     "metadata": {},
     "output_type": "execute_result"
    }
   ],
   "source": [
    "complex(val1)"
   ]
  },
  {
   "cell_type": "markdown",
   "id": "01c41baf",
   "metadata": {},
   "source": [
    "**complex to other data type**"
   ]
  },
  {
   "cell_type": "code",
   "execution_count": null,
   "id": "51a2707a",
   "metadata": {},
   "outputs": [
    {
     "ename": "TypeError",
     "evalue": "int() argument must be a string, a bytes-like object or a real number, not 'complex'",
     "output_type": "error",
     "traceback": [
      "\u001b[1;31m---------------------------------------------------------------------------\u001b[0m",
      "\u001b[1;31mTypeError\u001b[0m                                 Traceback (most recent call last)",
      "Cell \u001b[1;32mIn[40], line 2\u001b[0m\n\u001b[0;32m      1\u001b[0m val2\u001b[38;5;241m=\u001b[39m\u001b[38;5;241m10\u001b[39m\u001b[38;5;241m+\u001b[39m\u001b[38;5;241m20\u001b[39mj\n\u001b[1;32m----> 2\u001b[0m \u001b[38;5;28;43mint\u001b[39;49m\u001b[43m(\u001b[49m\u001b[43mval2\u001b[49m\u001b[43m)\u001b[49m\n",
      "\u001b[1;31mTypeError\u001b[0m: int() argument must be a string, a bytes-like object or a real number, not 'complex'"
     ]
    }
   ],
   "source": [
    "val2=10+20j\n",
    "int(val2)# gives error"
   ]
  },
  {
   "cell_type": "code",
   "execution_count": null,
   "id": "9852ba2b",
   "metadata": {},
   "outputs": [
    {
     "ename": "TypeError",
     "evalue": "float() argument must be a string or a real number, not 'complex'",
     "output_type": "error",
     "traceback": [
      "\u001b[1;31m---------------------------------------------------------------------------\u001b[0m",
      "\u001b[1;31mTypeError\u001b[0m                                 Traceback (most recent call last)",
      "Cell \u001b[1;32mIn[41], line 1\u001b[0m\n\u001b[1;32m----> 1\u001b[0m \u001b[38;5;28;43mfloat\u001b[39;49m\u001b[43m(\u001b[49m\u001b[43mval2\u001b[49m\u001b[43m)\u001b[49m\n",
      "\u001b[1;31mTypeError\u001b[0m: float() argument must be a string or a real number, not 'complex'"
     ]
    }
   ],
   "source": [
    "float(val2)#gives error"
   ]
  },
  {
   "cell_type": "code",
   "execution_count": 43,
   "id": "bca7cc69",
   "metadata": {},
   "outputs": [
    {
     "data": {
      "text/plain": [
       "'(10+20j)'"
      ]
     },
     "execution_count": 43,
     "metadata": {},
     "output_type": "execute_result"
    }
   ],
   "source": [
    "str(val2)"
   ]
  },
  {
   "cell_type": "code",
   "execution_count": 44,
   "id": "12f35d45",
   "metadata": {},
   "outputs": [
    {
     "data": {
      "text/plain": [
       "True"
      ]
     },
     "execution_count": 44,
     "metadata": {},
     "output_type": "execute_result"
    }
   ],
   "source": [
    "bool(val2)"
   ]
  },
  {
   "cell_type": "code",
   "execution_count": 45,
   "id": "3d6d8ff5",
   "metadata": {},
   "outputs": [
    {
     "ename": "TypeError",
     "evalue": "int() argument must be a string, a bytes-like object or a real number, not 'complex'",
     "output_type": "error",
     "traceback": [
      "\u001b[1;31m---------------------------------------------------------------------------\u001b[0m",
      "\u001b[1;31mTypeError\u001b[0m                                 Traceback (most recent call last)",
      "Cell \u001b[1;32mIn[45], line 2\u001b[0m\n\u001b[0;32m      1\u001b[0m val3\u001b[38;5;241m=\u001b[39m\u001b[38;5;241m10\u001b[39m\u001b[38;5;241m+\u001b[39m\u001b[38;5;241m0\u001b[39mj\n\u001b[1;32m----> 2\u001b[0m \u001b[38;5;28;43mint\u001b[39;49m\u001b[43m(\u001b[49m\u001b[43mval3\u001b[49m\u001b[43m)\u001b[49m\n",
      "\u001b[1;31mTypeError\u001b[0m: int() argument must be a string, a bytes-like object or a real number, not 'complex'"
     ]
    }
   ],
   "source": [
    "val3=10+0j\n",
    "int(val3)"
   ]
  },
  {
   "cell_type": "code",
   "execution_count": 46,
   "id": "bb3ebe37",
   "metadata": {},
   "outputs": [
    {
     "ename": "TypeError",
     "evalue": "float() argument must be a string or a real number, not 'complex'",
     "output_type": "error",
     "traceback": [
      "\u001b[1;31m---------------------------------------------------------------------------\u001b[0m",
      "\u001b[1;31mTypeError\u001b[0m                                 Traceback (most recent call last)",
      "Cell \u001b[1;32mIn[46], line 1\u001b[0m\n\u001b[1;32m----> 1\u001b[0m \u001b[38;5;28;43mfloat\u001b[39;49m\u001b[43m(\u001b[49m\u001b[43mval3\u001b[49m\u001b[43m)\u001b[49m\n",
      "\u001b[1;31mTypeError\u001b[0m: float() argument must be a string or a real number, not 'complex'"
     ]
    }
   ],
   "source": [
    "float(val3)"
   ]
  },
  {
   "cell_type": "code",
   "execution_count": 47,
   "id": "fc389c20",
   "metadata": {},
   "outputs": [
    {
     "data": {
      "text/plain": [
       "False"
      ]
     },
     "execution_count": 47,
     "metadata": {},
     "output_type": "execute_result"
    }
   ],
   "source": [
    "bool(0j)"
   ]
  }
 ],
 "metadata": {
  "kernelspec": {
   "display_name": "python_bases",
   "language": "python",
   "name": "python3"
  },
  "language_info": {
   "codemirror_mode": {
    "name": "ipython",
    "version": 3
   },
   "file_extension": ".py",
   "mimetype": "text/x-python",
   "name": "python",
   "nbconvert_exporter": "python",
   "pygments_lexer": "ipython3",
   "version": "3.12.6"
  }
 },
 "nbformat": 4,
 "nbformat_minor": 5
}
