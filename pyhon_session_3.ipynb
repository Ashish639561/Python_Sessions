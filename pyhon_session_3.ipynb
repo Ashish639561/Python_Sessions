{
 "cells": [
  {
   "cell_type": "markdown",
   "id": "3eee701e-8a63-44ca-a29d-87110add4a11",
   "metadata": {},
   "source": [
    "$Boolean$"
   ]
  },
  {
   "cell_type": "markdown",
   "id": "cf5dc62d-17a1-4c22-a159-056de4d87de9",
   "metadata": {},
   "source": [
    "*True means 1*\n",
    "\n",
    "*False means 0*"
   ]
  },
  {
   "cell_type": "code",
   "execution_count": null,
   "id": "9af41bad-0da1-41c5-bcdc-c4259cb7c30c",
   "metadata": {},
   "outputs": [
    {
     "data": {
      "text/plain": [
       "bool"
      ]
     },
     "execution_count": 9,
     "metadata": {},
     "output_type": "execute_result"
    }
   ],
   "source": [
    "value=False\n",
    "type(value)"
   ]
  },
  {
   "cell_type": "code",
   "execution_count": null,
   "id": "2518fe63-be9d-48bb-aa6a-cbec99d36ef4",
   "metadata": {},
   "outputs": [
    {
     "data": {
      "text/plain": [
       "True"
      ]
     },
     "execution_count": 11,
     "metadata": {},
     "output_type": "execute_result"
    }
   ],
   "source": [
    "value1=True\n",
    "value1"
   ]
  },
  {
   "cell_type": "code",
   "execution_count": null,
   "id": "fa29caa1-2c34-4de2-95d1-6c19183d906b",
   "metadata": {},
   "outputs": [
    {
     "data": {
      "text/plain": [
       "500"
      ]
     },
     "execution_count": 19,
     "metadata": {},
     "output_type": "execute_result"
    }
   ],
   "source": [
    "a=100\n",
    "b=200\n",
    "a=b\n",
    "b=a\n",
    "a=500\n",
    "b=a\n",
    "b=900\n",
    "a"
   ]
  },
  {
   "cell_type": "code",
   "execution_count": 17,
   "id": "8df6dd49-9357-4a46-9e8c-38bdb6d281b7",
   "metadata": {},
   "outputs": [
    {
     "data": {
      "text/plain": [
       "900"
      ]
     },
     "execution_count": 17,
     "metadata": {},
     "output_type": "execute_result"
    }
   ],
   "source": [
    "b"
   ]
  },
  {
   "cell_type": "markdown",
   "id": "9335d205-0534-426f-ab85-32551c98e9d1",
   "metadata": {
    "vscode": {
     "languageId": "plaintext"
    }
   },
   "source": [
    "$Complex-Conjugate$\n",
    "\n",
    "- a+bj\n",
    "- where a is real number and b is imaginary number\n",
    "- j = sqrt(-1)"
   ]
  },
  {
   "cell_type": "code",
   "execution_count": null,
   "id": "6fe3affb-722d-4f92-bb60-cd5e5b48e558",
   "metadata": {},
   "outputs": [
    {
     "data": {
      "text/plain": [
       "(4+5j)"
      ]
     },
     "execution_count": 26,
     "metadata": {},
     "output_type": "execute_result"
    }
   ],
   "source": [
    "number=4+5j\n",
    "number"
   ]
  },
  {
   "cell_type": "code",
   "execution_count": 28,
   "id": "eaf27156-434e-4ee5-a9ea-d85b4668841b",
   "metadata": {},
   "outputs": [
    {
     "data": {
      "text/plain": [
       "complex"
      ]
     },
     "execution_count": 28,
     "metadata": {},
     "output_type": "execute_result"
    }
   ],
   "source": [
    "type(number)"
   ]
  },
  {
   "cell_type": "code",
   "execution_count": null,
   "id": "0525baac-a76b-4a68-8df2-ee6011e67379",
   "metadata": {},
   "outputs": [
    {
     "data": {
      "text/plain": [
       "(4-6j)"
      ]
     },
     "execution_count": 30,
     "metadata": {},
     "output_type": "execute_result"
    }
   ],
   "source": [
    "number=4-6j\n",
    "number"
   ]
  },
  {
   "cell_type": "code",
   "execution_count": null,
   "id": "0b73408b-fcc0-40a5-9199-65d7de4711dd",
   "metadata": {},
   "outputs": [
    {
     "data": {
      "text/plain": [
       "complex"
      ]
     },
     "execution_count": 32,
     "metadata": {},
     "output_type": "execute_result"
    }
   ],
   "source": [
    "type(number)"
   ]
  },
  {
   "cell_type": "code",
   "execution_count": 34,
   "id": "dedfcdec-7618-487c-9690-25a5d0586f38",
   "metadata": {},
   "outputs": [
    {
     "data": {
      "text/plain": [
       "4.0"
      ]
     },
     "execution_count": 34,
     "metadata": {},
     "output_type": "execute_result"
    }
   ],
   "source": [
    "number.real"
   ]
  },
  {
   "cell_type": "code",
   "execution_count": 36,
   "id": "07f75d2c-48fa-4195-af6f-4945e86abb1a",
   "metadata": {},
   "outputs": [
    {
     "data": {
      "text/plain": [
       "-6.0"
      ]
     },
     "execution_count": 36,
     "metadata": {},
     "output_type": "execute_result"
    }
   ],
   "source": [
    "number.imag"
   ]
  },
  {
   "cell_type": "code",
   "execution_count": 38,
   "id": "6dad6204-2f9b-4a77-a504-56eaf161e769",
   "metadata": {},
   "outputs": [
    {
     "data": {
      "text/plain": [
       "['__abs__',\n",
       " '__add__',\n",
       " '__bool__',\n",
       " '__class__',\n",
       " '__complex__',\n",
       " '__delattr__',\n",
       " '__dir__',\n",
       " '__doc__',\n",
       " '__eq__',\n",
       " '__format__',\n",
       " '__ge__',\n",
       " '__getattribute__',\n",
       " '__getnewargs__',\n",
       " '__getstate__',\n",
       " '__gt__',\n",
       " '__hash__',\n",
       " '__init__',\n",
       " '__init_subclass__',\n",
       " '__le__',\n",
       " '__lt__',\n",
       " '__mul__',\n",
       " '__ne__',\n",
       " '__neg__',\n",
       " '__new__',\n",
       " '__pos__',\n",
       " '__pow__',\n",
       " '__radd__',\n",
       " '__reduce__',\n",
       " '__reduce_ex__',\n",
       " '__repr__',\n",
       " '__rmul__',\n",
       " '__rpow__',\n",
       " '__rsub__',\n",
       " '__rtruediv__',\n",
       " '__setattr__',\n",
       " '__sizeof__',\n",
       " '__str__',\n",
       " '__sub__',\n",
       " '__subclasshook__',\n",
       " '__truediv__',\n",
       " 'conjugate',\n",
       " 'imag',\n",
       " 'real']"
      ]
     },
     "execution_count": 38,
     "metadata": {},
     "output_type": "execute_result"
    }
   ],
   "source": [
    "dir(number)"
   ]
  },
  {
   "cell_type": "code",
   "execution_count": 40,
   "id": "933f5242-a3ab-4e9e-af9e-4f064b3fa936",
   "metadata": {},
   "outputs": [
    {
     "data": {
      "text/plain": [
       "<function complex.conjugate()>"
      ]
     },
     "execution_count": 40,
     "metadata": {},
     "output_type": "execute_result"
    }
   ],
   "source": [
    "number.conjugate"
   ]
  },
  {
   "cell_type": "code",
   "execution_count": 42,
   "id": "b3a41f6d-470f-4b10-960a-41b0bfdac975",
   "metadata": {},
   "outputs": [
    {
     "data": {
      "text/plain": [
       "(4+6j)"
      ]
     },
     "execution_count": 42,
     "metadata": {},
     "output_type": "execute_result"
    }
   ],
   "source": [
    "number.conjugate()  # conjugate() it will convert +ve to -ve and vice versa"
   ]
  },
  {
   "cell_type": "code",
   "execution_count": 44,
   "id": "a5aa6267-ca0a-4a87-ba01-15f4a6f248c0",
   "metadata": {},
   "outputs": [
    {
     "data": {
      "text/plain": [
       "(2-6j)"
      ]
     },
     "execution_count": 44,
     "metadata": {},
     "output_type": "execute_result"
    }
   ],
   "source": [
    "number=2+6j\n",
    "number.conjugate()"
   ]
  },
  {
   "cell_type": "code",
   "execution_count": 46,
   "id": "ee1f1148-e0ac-43cd-b599-3b4b46c8e811",
   "metadata": {},
   "outputs": [
    {
     "data": {
      "text/plain": [
       "complex"
      ]
     },
     "execution_count": 46,
     "metadata": {},
     "output_type": "execute_result"
    }
   ],
   "source": [
    "number=-2-4j\n",
    "type(number)"
   ]
  },
  {
   "cell_type": "code",
   "execution_count": 48,
   "id": "953408d9-4abb-41ac-8486-382c0780e162",
   "metadata": {},
   "outputs": [
    {
     "data": {
      "text/plain": [
       "-2.0"
      ]
     },
     "execution_count": 48,
     "metadata": {},
     "output_type": "execute_result"
    }
   ],
   "source": [
    "number.real"
   ]
  },
  {
   "cell_type": "code",
   "execution_count": 50,
   "id": "472fcb47-75b2-4a8e-ad62-03f490401ebe",
   "metadata": {},
   "outputs": [
    {
     "data": {
      "text/plain": [
       "-4.0"
      ]
     },
     "execution_count": 50,
     "metadata": {},
     "output_type": "execute_result"
    }
   ],
   "source": [
    "number.imag"
   ]
  },
  {
   "cell_type": "code",
   "execution_count": 52,
   "id": "32fe312c-cfc1-4b84-90e3-700c88252a75",
   "metadata": {},
   "outputs": [
    {
     "data": {
      "text/plain": [
       "(-2+4j)"
      ]
     },
     "execution_count": 52,
     "metadata": {},
     "output_type": "execute_result"
    }
   ],
   "source": [
    "number.conjugate()"
   ]
  },
  {
   "cell_type": "code",
   "execution_count": 1,
   "id": "6bc12d2c-3225-4273-ba69-82bbaed27caa",
   "metadata": {},
   "outputs": [
    {
     "data": {
      "text/plain": [
       "-4.0"
      ]
     },
     "execution_count": 1,
     "metadata": {},
     "output_type": "execute_result"
    }
   ],
   "source": [
    "number_1=-4j\n",
    "number_1.imag"
   ]
  },
  {
   "cell_type": "code",
   "execution_count": 2,
   "id": "b915e341-1891-452b-8e3b-cbf087364bfb",
   "metadata": {},
   "outputs": [
    {
     "data": {
      "text/plain": [
       "-0.0"
      ]
     },
     "execution_count": 2,
     "metadata": {},
     "output_type": "execute_result"
    }
   ],
   "source": [
    "number_1.real"
   ]
  },
  {
   "cell_type": "code",
   "execution_count": 64,
   "id": "6e39767c-352c-4b3b-8930-6ebe01e9f91d",
   "metadata": {},
   "outputs": [
    {
     "data": {
      "text/plain": [
       "4.0"
      ]
     },
     "execution_count": 64,
     "metadata": {},
     "output_type": "execute_result"
    }
   ],
   "source": [
    "number_2=4j\n",
    "number_2.imag"
   ]
  },
  {
   "cell_type": "code",
   "execution_count": 66,
   "id": "3551d8d4-0be1-4da5-a98f-9cf0001415c7",
   "metadata": {},
   "outputs": [
    {
     "data": {
      "text/plain": [
       "0.0"
      ]
     },
     "execution_count": 66,
     "metadata": {},
     "output_type": "execute_result"
    }
   ],
   "source": [
    "number_2.real"
   ]
  },
  {
   "cell_type": "markdown",
   "id": "d9a1bf1a-6088-4425-b960-be2fbee266e6",
   "metadata": {},
   "source": [
    "**Complex()**"
   ]
  },
  {
   "cell_type": "code",
   "execution_count": 73,
   "id": "40dcfbc3-ba7f-4a00-a166-90e7eff5f39b",
   "metadata": {},
   "outputs": [
    {
     "data": {
      "text/plain": [
       "(2+3j)"
      ]
     },
     "execution_count": 73,
     "metadata": {},
     "output_type": "execute_result"
    }
   ],
   "source": [
    "number=complex(2,3)\n",
    "number"
   ]
  },
  {
   "cell_type": "code",
   "execution_count": 75,
   "id": "5f65bdcc-b070-4d03-861e-3a1c0e941b10",
   "metadata": {},
   "outputs": [
    {
     "data": {
      "text/plain": [
       "(3+0j)"
      ]
     },
     "execution_count": 75,
     "metadata": {},
     "output_type": "execute_result"
    }
   ],
   "source": [
    "number=complex(3)\n",
    "number"
   ]
  },
  {
   "cell_type": "code",
   "execution_count": 79,
   "id": "56f176fe-6e83-472d-b4a5-4e1e8584cab9",
   "metadata": {},
   "outputs": [
    {
     "data": {
      "text/plain": [
       "(9+0j)"
      ]
     },
     "execution_count": 79,
     "metadata": {},
     "output_type": "execute_result"
    }
   ],
   "source": [
    "number=complex(9,0)\n",
    "number"
   ]
  },
  {
   "cell_type": "code",
   "execution_count": 81,
   "id": "8fffca35-9d4e-4719-91ec-bbf51f97b40d",
   "metadata": {},
   "outputs": [
    {
     "data": {
      "text/plain": [
       "6"
      ]
     },
     "execution_count": 81,
     "metadata": {},
     "output_type": "execute_result"
    }
   ],
   "source": [
    "import random\n",
    "random.randint(4,9)"
   ]
  },
  {
   "cell_type": "code",
   "execution_count": 1,
   "id": "ef015418-254d-4a7d-9e39-d7f4740970c9",
   "metadata": {},
   "outputs": [
    {
     "data": {
      "text/plain": [
       "(3+0j)"
      ]
     },
     "execution_count": 1,
     "metadata": {},
     "output_type": "execute_result"
    }
   ],
   "source": [
    "number=complex(real=3)\n",
    "number"
   ]
  },
  {
   "cell_type": "code",
   "execution_count": 3,
   "id": "e9e6d30c-9539-4a37-94c5-1f1661a7e74d",
   "metadata": {},
   "outputs": [
    {
     "data": {
      "text/plain": [
       "5j"
      ]
     },
     "execution_count": 3,
     "metadata": {},
     "output_type": "execute_result"
    }
   ],
   "source": [
    "number=complex(imag=5)\n",
    "number"
   ]
  },
  {
   "cell_type": "code",
   "execution_count": 5,
   "id": "589a69e8-f1a8-46bd-8080-9d534d80131e",
   "metadata": {},
   "outputs": [
    {
     "data": {
      "text/plain": [
       "0j"
      ]
     },
     "execution_count": 5,
     "metadata": {},
     "output_type": "execute_result"
    }
   ],
   "source": [
    "number=complex()\n",
    "number"
   ]
  },
  {
   "cell_type": "code",
   "execution_count": null,
   "id": "80bcb23f-a783-4d2a-ad8f-e3d44011f904",
   "metadata": {},
   "outputs": [],
   "source": []
  }
 ],
 "metadata": {
  "kernelspec": {
   "display_name": "python_bases",
   "language": "python",
   "name": "python3"
  },
  "language_info": {
   "codemirror_mode": {
    "name": "ipython",
    "version": 3
   },
   "file_extension": ".py",
   "mimetype": "text/x-python",
   "name": "python",
   "nbconvert_exporter": "python",
   "pygments_lexer": "ipython3",
   "version": "3.12.6"
  }
 },
 "nbformat": 4,
 "nbformat_minor": 5
}
