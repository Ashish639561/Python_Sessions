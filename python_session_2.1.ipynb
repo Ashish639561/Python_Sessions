{
 "cells": [
  {
   "cell_type": "markdown",
   "id": "ca4fa2ed-2529-4512-a1ec-6b195b3e3551",
   "metadata": {},
   "source": [
    "# Data_Types\n",
    "- Integer  \n",
    "        int\n",
    "- Float                            \n",
    "        float\n",
    "- String                           \n",
    "        str\n",
    "- Boolean                         \n",
    "        bool\n",
    "- Complex                          \n",
    "        complex\n",
    "- None      "
   ]
  },
  {
   "cell_type": "markdown",
   "id": "f4d19b4e-fb23-46e6-b921-68d3b9f48591",
   "metadata": {},
   "source": [
    "$Integer$"
   ]
  },
  {
   "cell_type": "markdown",
   "id": "1ad7006d-dc60-46c7-a4d7-5620bffa5a6b",
   "metadata": {},
   "source": [
    "It is divided into 4 types\n",
    "- decimal integer data type\n",
    "- binary integer data type\n",
    "- octal integer data type\n",
    "- hexa decimal integer data type"
   ]
  },
  {
   "cell_type": "markdown",
   "id": "19c526e6-ee82-47af-88c8-fa0bc6346042",
   "metadata": {},
   "source": [
    "$decimal$\n",
    "- decimal means 10\n",
    "- so the base is 10\n",
    "- 0,1,2,3,4,5,6,7,8,9\n",
    "- here we will use any digits between 0 to 9(0 and 9 both included)\n",
    "- representation is between from 0 to 9"
   ]
  },
  {
   "cell_type": "code",
   "execution_count": 1,
   "id": "23d8c0f9-92f6-48f6-9e58-b3f2e53f6d4c",
   "metadata": {},
   "outputs": [
    {
     "data": {
      "text/plain": [
       "10"
      ]
     },
     "execution_count": 1,
     "metadata": {},
     "output_type": "execute_result"
    }
   ],
   "source": [
    "a = 10\n",
    "a"
   ]
  },
  {
   "cell_type": "code",
   "execution_count": 2,
   "id": "7640eac3-a058-4cbe-9262-37bbca4c1c5e",
   "metadata": {},
   "outputs": [
    {
     "data": {
      "text/plain": [
       "9865"
      ]
     },
     "execution_count": 2,
     "metadata": {},
     "output_type": "execute_result"
    }
   ],
   "source": [
    "a=9865\n",
    "a"
   ]
  },
  {
   "cell_type": "markdown",
   "id": "5420d166-5b42-4918-b3c4-db60a6c47d08",
   "metadata": {},
   "source": [
    "**binary**\n",
    "- bi means 2\n",
    "- so the base is 2\n",
    "- 0,1\n",
    "- here we will only use 0 and 1 with preffix 0b or 0B\n",
    "- 0b101 or 0B110"
   ]
  },
  {
   "cell_type": "code",
   "execution_count": 3,
   "id": "d2cacae2-e45c-4168-8663-35742794cec9",
   "metadata": {},
   "outputs": [
    {
     "data": {
      "text/plain": [
       "5"
      ]
     },
     "execution_count": 3,
     "metadata": {},
     "output_type": "execute_result"
    }
   ],
   "source": [
    "a=0b101\n",
    "a"
   ]
  },
  {
   "cell_type": "code",
   "execution_count": 4,
   "id": "70540296-9d0e-4ba8-acb8-548dbd4646ac",
   "metadata": {},
   "outputs": [
    {
     "data": {
      "text/plain": [
       "6"
      ]
     },
     "execution_count": 4,
     "metadata": {},
     "output_type": "execute_result"
    }
   ],
   "source": [
    "a=0B110\n",
    "a"
   ]
  },
  {
   "cell_type": "markdown",
   "id": "8282955f-3582-4764-968c-c6c9cf60fada",
   "metadata": {},
   "source": [
    "**octal**\n",
    "- octa means 8\n",
    "- so the base is 8\n",
    "- 0,1,2,3,4,5,6,7\n",
    "- here we will only use digits from 0 to 7 with preffix 0o or 0O\n",
    "- 0o101467 or 0O110237"
   ]
  },
  {
   "cell_type": "code",
   "execution_count": 5,
   "id": "fdefad72-0f12-4d79-8536-26c00ffa8b34",
   "metadata": {},
   "outputs": [
    {
     "data": {
      "text/plain": [
       "33591"
      ]
     },
     "execution_count": 5,
     "metadata": {},
     "output_type": "execute_result"
    }
   ],
   "source": [
    "a=0o101467\n",
    "a"
   ]
  },
  {
   "cell_type": "code",
   "execution_count": 6,
   "id": "f434a41d-b607-4631-ab48-36b60fd18a74",
   "metadata": {},
   "outputs": [
    {
     "data": {
      "text/plain": [
       "37919"
      ]
     },
     "execution_count": 6,
     "metadata": {},
     "output_type": "execute_result"
    }
   ],
   "source": [
    "a=0O112037\n",
    "a"
   ]
  },
  {
   "cell_type": "markdown",
   "id": "35705c3d-5712-490f-88c7-2101a78e78d7",
   "metadata": {},
   "source": [
    "**hexa**\n",
    "- hexa means 16\n",
    "- so the base is 16\n",
    "- 0,1,2,3,4,5,6,7,8,9,a/A,b/B,c/C,d/D,e/E,f/F   \n",
    "    (here a means 10,b means 11,c means 12,d means 13,e means 14,f means 15)\n",
    "- here we will only use digits from 0 to f/F with preffix 0x or 0X\n",
    "- 0x1af9 or 0X9D4a"
   ]
  },
  {
   "cell_type": "code",
   "execution_count": 7,
   "id": "cb8e63c5-b081-4e6a-8fc3-c9304cdeb850",
   "metadata": {},
   "outputs": [
    {
     "data": {
      "text/plain": [
       "6905"
      ]
     },
     "execution_count": 7,
     "metadata": {},
     "output_type": "execute_result"
    }
   ],
   "source": [
    "a=0x1af9\n",
    "a"
   ]
  },
  {
   "cell_type": "code",
   "execution_count": 8,
   "id": "881746bc-7d70-47b3-bd1f-8a795983b8fe",
   "metadata": {},
   "outputs": [
    {
     "data": {
      "text/plain": [
       "40266"
      ]
     },
     "execution_count": 8,
     "metadata": {},
     "output_type": "execute_result"
    }
   ],
   "source": [
    "a=0X9D4a\n",
    "a"
   ]
  },
  {
   "cell_type": "markdown",
   "id": "028eda9f-f541-4389-af5b-2bec6bf392a0",
   "metadata": {},
   "source": [
    "**float**"
   ]
  },
  {
   "cell_type": "code",
   "execution_count": 9,
   "id": "f7ff8904-45e0-4f45-a9be-ea53cc833bf9",
   "metadata": {},
   "outputs": [
    {
     "data": {
      "text/plain": [
       "123.5"
      ]
     },
     "execution_count": 9,
     "metadata": {},
     "output_type": "execute_result"
    }
   ],
   "source": [
    "a=123.5\n",
    "a"
   ]
  },
  {
   "cell_type": "code",
   "execution_count": 10,
   "id": "98be03f8-2307-4ecf-a844-8de32e60220a",
   "metadata": {},
   "outputs": [
    {
     "data": {
      "text/plain": [
       "float"
      ]
     },
     "execution_count": 10,
     "metadata": {},
     "output_type": "execute_result"
    }
   ],
   "source": [
    "type(a)"
   ]
  },
  {
   "cell_type": "markdown",
   "id": "43443417-d88d-4960-854d-622fe7459a49",
   "metadata": {},
   "source": [
    "*e representation*"
   ]
  },
  {
   "cell_type": "code",
   "execution_count": 11,
   "id": "64d163d5-6f36-4e79-9b67-b736c025073f",
   "metadata": {},
   "outputs": [
    {
     "data": {
      "text/plain": [
       "10000.0"
      ]
     },
     "execution_count": 11,
     "metadata": {},
     "output_type": "execute_result"
    }
   ],
   "source": [
    "a=10e3 #10*1000=10000.0\n",
    "a"
   ]
  },
  {
   "cell_type": "code",
   "execution_count": 12,
   "id": "f9aca631-e1a5-439d-a2a9-456e04dd5be3",
   "metadata": {},
   "outputs": [
    {
     "data": {
      "text/plain": [
       "10000.0"
      ]
     },
     "execution_count": 12,
     "metadata": {},
     "output_type": "execute_result"
    }
   ],
   "source": [
    "a=10e+3 #10e3 and 10e+3 both are same\n",
    "a"
   ]
  },
  {
   "cell_type": "code",
   "execution_count": 13,
   "id": "40ceded3-7573-48e7-894b-efc461b79bb2",
   "metadata": {},
   "outputs": [
    {
     "data": {
      "text/plain": [
       "0.01"
      ]
     },
     "execution_count": 13,
     "metadata": {},
     "output_type": "execute_result"
    }
   ],
   "source": [
    "a=10e-3  # 10/1000=0.01\n",
    "a"
   ]
  },
  {
   "cell_type": "code",
   "execution_count": 14,
   "id": "28f2f032-900d-46e9-9833-71b5947f87c8",
   "metadata": {},
   "outputs": [
    {
     "data": {
      "text/plain": [
       "1e-09"
      ]
     },
     "execution_count": 14,
     "metadata": {},
     "output_type": "execute_result"
    }
   ],
   "source": [
    "a=10e-10\n",
    "a"
   ]
  },
  {
   "cell_type": "markdown",
   "id": "a24b3cb3-517e-4624-a380-b89d6abb0918",
   "metadata": {},
   "source": [
    "**Strings**"
   ]
  },
  {
   "cell_type": "code",
   "execution_count": 15,
   "id": "486a8e1c-a5d2-4454-be2a-fd4ffbd6bbbd",
   "metadata": {},
   "outputs": [
    {
     "data": {
      "text/plain": [
       "'Python'"
      ]
     },
     "execution_count": 15,
     "metadata": {},
     "output_type": "execute_result"
    }
   ],
   "source": [
    "name=\"Python\"\n",
    "name"
   ]
  },
  {
   "cell_type": "code",
   "execution_count": 16,
   "id": "86605df1-a661-49d0-b693-cb386417e1a4",
   "metadata": {},
   "outputs": [
    {
     "data": {
      "text/plain": [
       "str"
      ]
     },
     "execution_count": 16,
     "metadata": {},
     "output_type": "execute_result"
    }
   ],
   "source": [
    "type(name)"
   ]
  },
  {
   "cell_type": "code",
   "execution_count": 17,
   "id": "377aba5e-3352-4ba5-8a42-a3a3bc3bf2c3",
   "metadata": {},
   "outputs": [
    {
     "data": {
      "text/plain": [
       "'100'"
      ]
     },
     "execution_count": 17,
     "metadata": {},
     "output_type": "execute_result"
    }
   ],
   "source": [
    "name1=\"100\"\n",
    "name1"
   ]
  },
  {
   "cell_type": "code",
   "execution_count": 18,
   "id": "98a84e2c-522a-4de5-8d5b-57174dd3f32b",
   "metadata": {},
   "outputs": [
    {
     "data": {
      "text/plain": [
       "str"
      ]
     },
     "execution_count": 18,
     "metadata": {},
     "output_type": "execute_result"
    }
   ],
   "source": [
    "type(name1)"
   ]
  },
  {
   "cell_type": "code",
   "execution_count": 19,
   "id": "b4c31aad-ff83-4ebb-b517-b517c99a81d7",
   "metadata": {},
   "outputs": [
    {
     "data": {
      "text/plain": [
       "'how are you?'"
      ]
     },
     "execution_count": 19,
     "metadata": {},
     "output_type": "execute_result"
    }
   ],
   "source": [
    "name_2='how are you?'\n",
    "name_2"
   ]
  },
  {
   "cell_type": "code",
   "execution_count": 1,
   "id": "e41bfe6d-0e79-46ef-8a1f-11d0b7c88038",
   "metadata": {},
   "outputs": [
    {
     "name": "stdout",
     "output_type": "stream",
     "text": [
      "hi,\n",
      "how are you?\n"
     ]
    }
   ],
   "source": [
    "# multiline strings\n",
    "name='''hi,\n",
    "how are you?'''\n",
    "print(name)"
   ]
  },
  {
   "cell_type": "code",
   "execution_count": 21,
   "id": "7e932c56-f51c-4ad5-b836-7081b119aa29",
   "metadata": {},
   "outputs": [
    {
     "data": {
      "text/plain": [
       "253"
      ]
     },
     "execution_count": 21,
     "metadata": {},
     "output_type": "execute_result"
    }
   ],
   "source": [
    "# docstrings also use three triple quotes like(''' ''',\"\"\" \"\"\")\n",
    "# in jupyter there is markdown option\n",
    "# in vscode and pycharm we uee docstring\n",
    "import random\n",
    "random.randint(1,400)"
   ]
  },
  {
   "cell_type": "code",
   "execution_count": null,
   "id": "d27dae8c-6483-4d4b-9c75-64144514c8a7",
   "metadata": {},
   "outputs": [],
   "source": []
  }
 ],
 "metadata": {
  "kernelspec": {
   "display_name": "python_bases",
   "language": "python",
   "name": "python3"
  },
  "language_info": {
   "codemirror_mode": {
    "name": "ipython",
    "version": 3
   },
   "file_extension": ".py",
   "mimetype": "text/x-python",
   "name": "python",
   "nbconvert_exporter": "python",
   "pygments_lexer": "ipython3",
   "version": "3.12.6"
  }
 },
 "nbformat": 4,
 "nbformat_minor": 5
}
