{
 "cells": [
  {
   "cell_type": "markdown",
   "metadata": {},
   "source": [
    "__wap ask the user input 3 numbers__\n",
    "- n1 = eval(input())\n",
    "- n2 = eval(input())\n",
    "- n3 = eval(input())\n",
    "- average = (n1+n2+n3)/3\n",
    "- first find with normal code\n",
    "- then write as function"
   ]
  },
  {
   "cell_type": "markdown",
   "metadata": {},
   "source": [
    "_this is with normal code_"
   ]
  },
  {
   "cell_type": "code",
   "execution_count": null,
   "metadata": {},
   "outputs": [],
   "source": [
    "n1 = eval(input('enter first number:'))\n",
    "n2 = eval(input('enter second number:'))\n",
    "n3 = eval(input('enter third number:'))\n",
    "avg = (n1+n2+n3)/3\n",
    "print('the average of',n1,n2,n3,'is',avg)"
   ]
  },
  {
   "cell_type": "markdown",
   "metadata": {},
   "source": [
    "__this is with function without parametes__"
   ]
  },
  {
   "cell_type": "code",
   "execution_count": 5,
   "metadata": {},
   "outputs": [
    {
     "name": "stdout",
     "output_type": "stream",
     "text": [
      "the average of 5 6 7 is 6.0\n"
     ]
    }
   ],
   "source": [
    "def avg1():\n",
    "    n1 = eval(input('enter first number:'))\n",
    "    n2 = eval(input('enter second number:'))\n",
    "    n3 = eval(input('enter third number:'))\n",
    "    avg = (n1+n2+n3)/3\n",
    "    print('the average of',n1,n2,n3,'is',avg)\n",
    "avg1()\n"
   ]
  },
  {
   "cell_type": "code",
   "execution_count": null,
   "metadata": {},
   "outputs": [
    {
     "name": "stdout",
     "output_type": "stream",
     "text": [
      "name 'total_amwt' is not defined\n"
     ]
    }
   ],
   "source": [
    "def total_pay():\n",
    "        try:   \n",
    "            bill_amt = eval(input('enter your bill:'))\n",
    "            tip_amt = eval(input('enter tip amt'))\n",
    "            total_amt = bill_amt + tip_amt\n",
    "            print('the total amount to be paid is',total_amt)\n",
    "        except NameError as e:\n",
    "            print(e)\n",
    "total_pay()"
   ]
  },
  {
   "cell_type": "markdown",
   "metadata": {},
   "source": [
    "__write a program to take any random number b/w 1 to 100__\n",
    "- print:it is even or odd\n",
    "- using function implementation"
   ]
  },
  {
   "cell_type": "code",
   "execution_count": 15,
   "metadata": {},
   "outputs": [
    {
     "name": "stdout",
     "output_type": "stream",
     "text": [
      "139 is odd\n"
     ]
    }
   ],
   "source": [
    "import random\n",
    "def even_odd():\n",
    "    try:\n",
    "        number = random.randint(1,200)\n",
    "        if number%2 == 0:\n",
    "            print(f'the {number} is even ')\n",
    "        else:\n",
    "            print(number,'is odd')\n",
    "    except Exception as e:\n",
    "        print(e)\n",
    "even_odd()"
   ]
  },
  {
   "cell_type": "markdown",
   "metadata": {},
   "source": [
    "__function with parameters__"
   ]
  },
  {
   "cell_type": "code",
   "execution_count": null,
   "metadata": {},
   "outputs": [],
   "source": [
    "def add(num1:int,num2:int)->int:\n",
    "    try:\n",
    "        print(num1)\n",
    "        print(num2)\n",
    "        addition = num1 + num2\n",
    "        print('the addition of two numbers {}, {} is {}'.format(num1,num2,addition))\n",
    "    except Exception as e:\n",
    "        print(e)\n",
    "add(5,5)\n"
   ]
  },
  {
   "cell_type": "markdown",
   "metadata": {},
   "source": [
    "_with parameters_"
   ]
  },
  {
   "cell_type": "code",
   "execution_count": 18,
   "metadata": {},
   "outputs": [
    {
     "name": "stdout",
     "output_type": "stream",
     "text": [
      "the average of 20 30 40 is 30\n"
     ]
    }
   ],
   "source": [
    "def avg2(n1:int,n2:int,n3:int) -> None:\n",
    "    avg:int = (n1+n2+n3)//3\n",
    "    print('the average of',n1,n2,n3,'is',avg)\n",
    "\n",
    "n1 = eval(input('enter first number:'))\n",
    "n2 = eval(input('enter second number:'))\n",
    "n3 = eval(input('enter third number:'))\n",
    "avg2(n1,n2,n3)\n"
   ]
  },
  {
   "cell_type": "code",
   "execution_count": 28,
   "metadata": {},
   "outputs": [
    {
     "name": "stdout",
     "output_type": "stream",
     "text": [
      "12345\n",
      "5\n",
      "1234\n",
      "4\n",
      "123\n",
      "3\n",
      "12\n",
      "2\n",
      "1\n",
      "1\n",
      "54321\n"
     ]
    }
   ],
   "source": [
    "num=12345\n",
    "print(num)\n",
    "num1=str(num%10)\n",
    "num=num//10\n",
    "print(num1)\n",
    "print(num)\n",
    "num2=str(num%10)\n",
    "num=num//10\n",
    "print(num2)\n",
    "print(num)\n",
    "num3=str(num%10)\n",
    "num=num//10\n",
    "print(num3)\n",
    "print(num)\n",
    "num4=str(num%10)\n",
    "num=num//10\n",
    "print(num4)\n",
    "print(num)\n",
    "num5=str(num%10)\n",
    "print(num5)\n",
    "print(num1+num2+num3+num4+num5)"
   ]
  },
  {
   "cell_type": "code",
   "execution_count": null,
   "metadata": {},
   "outputs": [
    {
     "name": "stdout",
     "output_type": "stream",
     "text": [
      "total bill is 30\n"
     ]
    }
   ],
   "source": [
    "def bill(bill_amt,tip_amt,/):\n",
    "    try:\n",
    "        if not (isinstance(bill_amt,(int,float)) and isinstance(tip_amt,(int,float))):\n",
    "            raise ValueError('please enter only in numbers form')\n",
    "        else:                    \n",
    "            total_bill = bill_amt + tip_amt\n",
    "            print(f'total bill is {total_bill}')\n",
    "    except ValueError as e:\n",
    "        print(e)\n",
    "try:\n",
    "    bill(10,20)\n",
    "except Exception as e:\n",
    "    print(e)"
   ]
  },
  {
   "cell_type": "markdown",
   "metadata": {},
   "source": [
    "_write a program ask the user to input anumber_\n",
    "_and find the square of the number_\n",
    "- m-1,write in normal ways\n",
    "- m-2,write in function without functions\n",
    "- m-3,write in function with arguments"
   ]
  },
  {
   "cell_type": "code",
   "execution_count": 15,
   "metadata": {},
   "outputs": [
    {
     "name": "stdout",
     "output_type": "stream",
     "text": [
      "the square of the given 4 numbre is 16\n"
     ]
    }
   ],
   "source": [
    "#m-1\n",
    "digit = int(input('enter the value for sqr:'))\n",
    "result = digit * digit\n",
    "print(f'the square of the given {digit} numbre is {result}')"
   ]
  },
  {
   "cell_type": "code",
   "execution_count": 16,
   "metadata": {},
   "outputs": [
    {
     "name": "stdout",
     "output_type": "stream",
     "text": [
      "the square of the given 5 numbre is 25\n"
     ]
    }
   ],
   "source": [
    "#m-2\n",
    "def sqr():\n",
    "    digit = int(input('enter the value for sqr:'))\n",
    "    result = digit * digit\n",
    "    print(f'the square of the given {digit} numbre is {result}')\n",
    "sqr()\n"
   ]
  },
  {
   "cell_type": "code",
   "execution_count": 17,
   "metadata": {},
   "outputs": [
    {
     "name": "stdout",
     "output_type": "stream",
     "text": [
      "the square of the given 6 numbre is 36\n"
     ]
    }
   ],
   "source": [
    "#m-3\n",
    "def sqr(num:int):\n",
    "    result = num * num\n",
    "    print(f'the square of the given {digit} numbre is {result}')\n",
    "digit = int(input('enter the value for sqr:'))\n",
    "sqr(digit)"
   ]
  },
  {
   "cell_type": "markdown",
   "metadata": {},
   "source": [
    "_write a program ask the user to get a random number between 1 to 10_\n",
    "_and enter a number_\n",
    "and print:won if both numbers are same otherwise print:lost if he fails\n",
    "- m-1,write in normal ways\n",
    "- m-2,write in function without functions\n",
    "- m-3,write in function with arguments"
   ]
  },
  {
   "cell_type": "code",
   "execution_count": null,
   "metadata": {},
   "outputs": [
    {
     "name": "stdout",
     "output_type": "stream",
     "text": [
      "you won\n"
     ]
    }
   ],
   "source": [
    "#m-1\n",
    "import random\n",
    "num = random.randint(1,10)\n",
    "digit = int(input('enter a number:'))\n",
    "if num == digit:\n",
    "    print('you won')\n",
    "else:\n",
    "    print('you lost')"
   ]
  },
  {
   "cell_type": "code",
   "execution_count": 30,
   "metadata": {},
   "outputs": [
    {
     "name": "stdout",
     "output_type": "stream",
     "text": [
      "you won\n"
     ]
    }
   ],
   "source": [
    "#m-2\n",
    "import random\n",
    "def rand():      \n",
    "    num = random.randint(1,10)\n",
    "    digit = int(input('enter a number:'))\n",
    "    if num == digit:\n",
    "        print('you won')\n",
    "    else:\n",
    "        print('you lost')\n",
    "rand()"
   ]
  },
  {
   "cell_type": "code",
   "execution_count": 41,
   "metadata": {},
   "outputs": [
    {
     "name": "stdout",
     "output_type": "stream",
     "text": [
      "8\n",
      "you won\n"
     ]
    }
   ],
   "source": [
    "import random\n",
    "def sqr(num,digit):\n",
    "    if num == digit:\n",
    "        print('you won')\n",
    "    else:\n",
    "        print('you lost')\n",
    "num = random.randint(1,10)\n",
    "print(num)\n",
    "digit = int(input('enter a number:'))\n",
    "sqr(num,digit)\n"
   ]
  },
  {
   "cell_type": "markdown",
   "metadata": {},
   "source": [
    "# are of circle\n",
    "- are of circle = π *r *r \n",
    "- using basic method\n",
    "- without arguments\n",
    "- with arguments\n",
    "- default arguments"
   ]
  },
  {
   "cell_type": "code",
   "execution_count": 2,
   "metadata": {},
   "outputs": [
    {
     "name": "stdout",
     "output_type": "stream",
     "text": [
      "are of circle 2 is: 12.56\n"
     ]
    }
   ],
   "source": [
    "radius = int(input('enter a number:'))\n",
    "PIE = 3.14 \n",
    "a_o_c = PIE * radius * radius\n",
    "print('are of circle',radius, 'is:',a_o_c)"
   ]
  },
  {
   "cell_type": "code",
   "execution_count": 3,
   "metadata": {},
   "outputs": [
    {
     "name": "stdout",
     "output_type": "stream",
     "text": [
      "are of circle 3 is: 28.259999999999998\n"
     ]
    }
   ],
   "source": [
    "def a_o_c():\n",
    "    radius = int(input('enter a number:'))\n",
    "    PIE = 3.14 \n",
    "    a_o_c = PIE * radius * radius\n",
    "    print('are of circle',radius, 'is:',a_o_c)\n",
    "a_o_c()"
   ]
  },
  {
   "cell_type": "code",
   "execution_count": 4,
   "metadata": {},
   "outputs": [
    {
     "name": "stdout",
     "output_type": "stream",
     "text": [
      "are of circle 4 is: 50.24\n"
     ]
    }
   ],
   "source": [
    "def a_o_c(radius):\n",
    "    PIE = 3.14 \n",
    "    a_o_c = PIE * radius * radius\n",
    "    print('are of circle',radius, 'is:',a_o_c)\n",
    "radius = int(input('enter a number:'))\n",
    "a_o_c(radius)"
   ]
  },
  {
   "cell_type": "code",
   "execution_count": 9,
   "metadata": {},
   "outputs": [
    {
     "name": "stdout",
     "output_type": "stream",
     "text": [
      "are of circle 7 is: 153.86\n"
     ]
    }
   ],
   "source": [
    "def a_o_c(PIE,radius=7): \n",
    "    a_o_c = PIE * radius * radius\n",
    "    print('are of circle',radius, 'is:',a_o_c)\n",
    "a_o_c(3.14)"
   ]
  },
  {
   "cell_type": "markdown",
   "metadata": {},
   "source": [
    "_return keyword_"
   ]
  },
  {
   "cell_type": "code",
   "execution_count": 10,
   "metadata": {},
   "outputs": [
    {
     "name": "stdout",
     "output_type": "stream",
     "text": [
      "are of circle 5 is: 78.5\n",
      "5 78.5\n"
     ]
    }
   ],
   "source": [
    "def a_o_c():\n",
    "    radius = int(input('enter a number:'))\n",
    "    PIE = 3.14 \n",
    "    a_o_c = PIE * radius * radius\n",
    "    print('are of circle',radius, 'is:',a_o_c)\n",
    "    return radius,a_o_c\n",
    "radius,a_o_c_1 = a_o_c()\n",
    "print(radius,a_o_c_1)"
   ]
  },
  {
   "cell_type": "code",
   "execution_count": null,
   "metadata": {},
   "outputs": [],
   "source": [
    "### ask the user to enter 3 numbers\n",
    "### find the sum and average\n",
    "### and return that value"
   ]
  },
  {
   "cell_type": "code",
   "execution_count": 12,
   "metadata": {},
   "outputs": [
    {
     "name": "stdout",
     "output_type": "stream",
     "text": [
      "the sum and the average of the number 4 5 and 6 is 5.0\n",
      "15 5.0\n"
     ]
    }
   ],
   "source": [
    "def sum_avg():\n",
    "    l = [int(x) for x in input('enter 3 number using ,:').split(',')]\n",
    "    count = len(l)\n",
    "    sum = l[0] + l[1] + l[2]\n",
    "    avg = sum/count\n",
    "    print('the sum and the average of the number',l[0],l[1],'and',l[2],'is',avg)\n",
    "    return sum,avg\n",
    "sum,avg=sum_avg()\n",
    "print(sum,avg)"
   ]
  },
  {
   "cell_type": "markdown",
   "metadata": {},
   "source": [
    "# take 3 numbers\n",
    "# find thre greatest of that 3 numbers\n",
    "# using normal function without returning\n",
    "# using normal function with return"
   ]
  },
  {
   "cell_type": "code",
   "execution_count": null,
   "metadata": {},
   "outputs": [
    {
     "name": "stdout",
     "output_type": "stream",
     "text": [
      "the maximum of three numbers 2 4 and 5 is 5\n"
     ]
    }
   ],
   "source": [
    "def big():\n",
    "    l = [int(x) for x in input('enter 3 numbers using comma,').split(',')]\n",
    "    maxi = max(l)\n",
    "    print('the maximum of three numbers',l[0],l[1], 'and', l[2],'is',maxi)\n",
    "big()"
   ]
  },
  {
   "cell_type": "code",
   "execution_count": 16,
   "metadata": {},
   "outputs": [
    {
     "name": "stdout",
     "output_type": "stream",
     "text": [
      "the maximum of three numbers 4 5 and 6 is 6\n",
      "6 4 5 6\n"
     ]
    }
   ],
   "source": [
    "def big():\n",
    "    l = [int(x) for x in input('enter 3 numbers using comma,').split(',')]\n",
    "    maxi = max(l)\n",
    "    print('the maximum of three numbers',l[0],l[1], 'and', l[2],'is',maxi)\n",
    "    return maxi,l[0],l[1],l[2]\n",
    "maxi,num1,num2,num3=big()\n",
    "print(maxi,num1,num2,num3)"
   ]
  }
 ],
 "metadata": {
  "kernelspec": {
   "display_name": "python_bases",
   "language": "python",
   "name": "python3"
  },
  "language_info": {
   "codemirror_mode": {
    "name": "ipython",
    "version": 3
   },
   "file_extension": ".py",
   "mimetype": "text/x-python",
   "name": "python",
   "nbconvert_exporter": "python",
   "pygments_lexer": "ipython3",
   "version": "3.12.6"
  }
 },
 "nbformat": 4,
 "nbformat_minor": 2
}
