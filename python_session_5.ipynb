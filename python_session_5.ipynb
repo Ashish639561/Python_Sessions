{
 "cells": [
  {
   "cell_type": "markdown",
   "metadata": {},
   "source": [
    "**print function**"
   ]
  },
  {
   "cell_type": "code",
   "execution_count": 1,
   "metadata": {},
   "outputs": [
    {
     "data": {
      "text/plain": [
       "200"
      ]
     },
     "execution_count": 1,
     "metadata": {},
     "output_type": "execute_result"
    }
   ],
   "source": [
    "name1=100\n",
    "name2=200\n",
    "name1\n",
    "name2"
   ]
  },
  {
   "cell_type": "code",
   "execution_count": 2,
   "metadata": {},
   "outputs": [
    {
     "name": "stdout",
     "output_type": "stream",
     "text": [
      "100\n",
      "200\n"
     ]
    }
   ],
   "source": [
    "print(name1)\n",
    "print(name2)"
   ]
  },
  {
   "cell_type": "code",
   "execution_count": 3,
   "metadata": {},
   "outputs": [
    {
     "name": "stdout",
     "output_type": "stream",
     "text": [
      "100 200\n"
     ]
    }
   ],
   "source": [
    "print(name1,name2)"
   ]
  },
  {
   "cell_type": "code",
   "execution_count": 4,
   "metadata": {},
   "outputs": [
    {
     "name": "stdout",
     "output_type": "stream",
     "text": [
      "hi how are you\n",
      "hi how are you\n"
     ]
    }
   ],
   "source": [
    "print('hi','how','are','you')\n",
    "print('hi how are you')"
   ]
  },
  {
   "cell_type": "code",
   "execution_count": 6,
   "metadata": {},
   "outputs": [
    {
     "name": "stdout",
     "output_type": "stream",
     "text": [
      "hi how are you\n"
     ]
    }
   ],
   "source": [
    "print('hi',end=\" \")\n",
    "print('how are you')"
   ]
  },
  {
   "cell_type": "code",
   "execution_count": 8,
   "metadata": {},
   "outputs": [
    {
     "name": "stdout",
     "output_type": "stream",
     "text": [
      "hi --  hello   \n"
     ]
    }
   ],
   "source": [
    "print(\"hi \",end=\"--\")\n",
    "print('  hello   ')"
   ]
  },
  {
   "cell_type": "code",
   "execution_count": 9,
   "metadata": {},
   "outputs": [
    {
     "name": "stdout",
     "output_type": "stream",
     "text": [
      "the addition of 100 and 200 is 300\n"
     ]
    }
   ],
   "source": [
    "num1=100\n",
    "num2=200\n",
    "result=num1+num2\n",
    "print(\"the addition of\",num1,\"and\",num2,\"is\",result)"
   ]
  },
  {
   "cell_type": "code",
   "execution_count": 22,
   "metadata": {},
   "outputs": [
    {
     "name": "stdout",
     "output_type": "stream",
     "text": [
      "my name is python i came from Hyd and i am  10 years old\n",
      "my name is python i came from Hyd and i am  10 years old\n",
      "my name is python i came from Hyd and i am 10 years old\n"
     ]
    }
   ],
   "source": [
    "name=\"python\"\n",
    "city=\"Hyd\"\n",
    "age=10\n",
    "print(\"my name is\",name,\"i came from\",city,\"and i am \",age,\"years old\")\n",
    "print(\"my name is\",name,\"i came from\",city,end=\" and\")\n",
    "print(\" i am \",age,\"years old\")\n",
    "print(\"my name is {} i came from {} and i am {} years old\".format(name,city,age))\n"
   ]
  },
  {
   "cell_type": "code",
   "execution_count": 5,
   "metadata": {},
   "outputs": [
    {
     "name": "stdout",
     "output_type": "stream",
     "text": [
      "the addition of 10 and 20 is 30\n",
      "the subtraction of 10 and 20 is 10\n",
      "the multiplication of 10 and 20 is 200\n",
      "the division of 10 and 20 is 0.5\n"
     ]
    }
   ],
   "source": [
    "value1=10\n",
    "value2=20\n",
    "add=value1+value2\n",
    "sub=value2-value1\n",
    "mul=value1*value2\n",
    "div=round(value1/value2,2)\n",
    "print(\"the addition of {} and {} is {}\".format(value1,value2,add))\n",
    "print(\"the subtraction of {} and {} is {}\".format(value1,value2,sub))\n",
    "print(\"the multiplication of {} and {} is {}\".format(value1,value2,mul))\n",
    "print(\"the division of {} and {} is {}\".format(value1,value2,div))"
   ]
  },
  {
   "cell_type": "code",
   "execution_count": 4,
   "metadata": {},
   "outputs": [
    {
     "name": "stdout",
     "output_type": "stream",
     "text": [
      "2.5\n",
      "2\n",
      "1\n"
     ]
    }
   ],
   "source": [
    "print(5/2)#division operator\n",
    "print(5//2)#floor division(gives int if dividend is int or float if dividend is not int)\n",
    "print(5%2)#modulo  operator gives remainder when there is remaining if dividend is not divisible with divisor"
   ]
  },
  {
   "cell_type": "markdown",
   "metadata": {},
   "source": [
    "$input$"
   ]
  },
  {
   "cell_type": "code",
   "execution_count": 13,
   "metadata": {},
   "outputs": [
    {
     "name": "stdout",
     "output_type": "stream",
     "text": [
      "the add of tow variable 4 and 4 is 8\n"
     ]
    }
   ],
   "source": [
    "val1 = int(input(\"enter first number:\"))\n",
    "val2 = int(input(\"enter second number:\"))\n",
    "add = val1 + val2\n",
    "print(\"the add of tow variable {} and {} is {}\".format(val1,val2,add))"
   ]
  },
  {
   "cell_type": "markdown",
   "metadata": {},
   "source": [
    "**chr and ord**"
   ]
  },
  {
   "cell_type": "code",
   "execution_count": 31,
   "metadata": {},
   "outputs": [
    {
     "name": "stdout",
     "output_type": "stream",
     "text": [
      "a\n",
      "97\n"
     ]
    }
   ],
   "source": [
    "print(chr(65+32))#chr is used for finding the chracter of that integer\n",
    "print(ord('a'))#ord is used for finding that string"
   ]
  },
  {
   "cell_type": "code",
   "execution_count": null,
   "metadata": {},
   "outputs": [
    {
     "name": "stdout",
     "output_type": "stream",
     "text": [
      "10 and 20.0 is 30.0\n"
     ]
    }
   ],
   "source": [
    "num1 = int(input(\"enter first number :\")) #int('200) works but int('200.5') will not work\n",
    "num2 = float(input(\"enter second number:\")) #float('200') and float('200.7') both will work\n",
    "add = num1 + num2\n",
    "print(\"{} and {} is {}\".format(num1,num2,add))"
   ]
  },
  {
   "cell_type": "markdown",
   "metadata": {},
   "source": [
    "$eval$"
   ]
  },
  {
   "cell_type": "code",
   "execution_count": null,
   "metadata": {},
   "outputs": [],
   "source": [
    "num1 = eval(input(\"enter first number:\"))\n",
    "num2 = eval(input(\"enter second number:\"))\n",
    "print(type(num1))\n",
    "print(type(num2))\n",
    "print(num1+num2)"
   ]
  },
  {
   "cell_type": "code",
   "execution_count": 42,
   "metadata": {},
   "outputs": [
    {
     "name": "stdout",
     "output_type": "stream",
     "text": [
      "<class 'int'>--><class 'int'>--><class 'int'>\n",
      "the sum of these three 200,100,300 is 600\n",
      "the average of these three is 200.0\n"
     ]
    }
   ],
   "source": [
    "#take 3 numbers from keyboard\n",
    "#adn print sum and average\n",
    "a=eval(input(\"enetr first:\"))\n",
    "b=eval(input(\"enter second :\"))\n",
    "c=eval(input(\"enter third:\"))\n",
    "d=a+b+c\n",
    "print(type(a),type(b),type(c),sep='-->')\n",
    "print('the sum of these three {},{},{} is {}'.format(a,b,c,d))\n",
    "print('the average of these three is {}'.format(d/3))"
   ]
  }
 ],
 "metadata": {
  "kernelspec": {
   "display_name": "python_bases",
   "language": "python",
   "name": "python3"
  },
  "language_info": {
   "codemirror_mode": {
    "name": "ipython",
    "version": 3
   },
   "file_extension": ".py",
   "mimetype": "text/x-python",
   "name": "python",
   "nbconvert_exporter": "python",
   "pygments_lexer": "ipython3",
   "version": "3.12.6"
  }
 },
 "nbformat": 4,
 "nbformat_minor": 2
}
