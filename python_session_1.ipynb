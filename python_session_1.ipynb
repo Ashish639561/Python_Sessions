{
 "cells": [
  {
   "cell_type": "markdown",
   "id": "699908f9-d851-4ff3-bcc6-e789b3e05538",
   "metadata": {},
   "source": [
    "# python notebook will works by using python kernel\n",
    "\n",
    "- python kernel dot,if dot is in white color :idol state,ready to execute the code\n",
    "\n",
    "- python kernel is in black ======>it is busy\n",
    "\n",
    "- python kernel will run the code step by step\n",
    "\n",
    "- if you see kernel in black color,do not run any codes\n",
    "\n",
    "- if python kernel is in red =====>kernel is dead"
   ]
  },
  {
   "cell_type": "markdown",
   "id": "25113bd5-47ca-4fee-902d-e0f2581d7c5f",
   "metadata": {},
   "source": [
    "plus sign \n",
    "\n",
    "click on plus sign ==>it will create a new shell\n",
    "\n",
    "new shell is used to provide some input\n",
    "\n",
    "input means write some code\n",
    "\n",
    "when you run it will provide output"
   ]
  },
  {
   "cell_type": "markdown",
   "id": "56181b13-6473-44e3-b68d-1676e02f3c76",
   "metadata": {},
   "source": [
    "whenever if you are seeing IN\n",
    "which means the cell is in code mode\n",
    "\n",
    "code mode ==== In at cell both are same"
   ]
  },
  {
   "cell_type": "code",
   "execution_count": 1,
   "id": "a9242a50-3dc6-41bf-a570-d74d1a6913c4",
   "metadata": {},
   "outputs": [
    {
     "data": {
      "text/plain": [
       "20"
      ]
     },
     "execution_count": 1,
     "metadata": {},
     "output_type": "execute_result"
    }
   ],
   "source": [
    "a=20\n",
    "a"
   ]
  },
  {
   "cell_type": "markdown",
   "id": "24e4b0ec-26b0-4d51-861d-aeb668bd8c7e",
   "metadata": {},
   "source": [
    "this is about python \n",
    "here we will read about data science"
   ]
  },
  {
   "cell_type": "markdown",
   "id": "3bfb73c2-774a-4502-9d29-a121bb54ff89",
   "metadata": {},
   "source": [
    "# Python"
   ]
  },
  {
   "cell_type": "markdown",
   "id": "88927fda-26c6-4f36-9d5a-642f70c47c2c",
   "metadata": {},
   "source": [
    "## Python2"
   ]
  },
  {
   "cell_type": "markdown",
   "id": "4569012f-44eb-4c20-94e1-3c809025b2ee",
   "metadata": {},
   "source": [
    "### Python3"
   ]
  },
  {
   "cell_type": "markdown",
   "id": "573205ed-1407-4654-878b-40d4258ad753",
   "metadata": {},
   "source": [
    "- python is easy\n",
    "    - HELLO \n",
    "    - How do you do?\n",
    "- python is my friend\n",
    "- python is used in DS and AI"
   ]
  },
  {
   "cell_type": "markdown",
   "id": "5f9c15a5-29e5-410b-b72d-7640620f1441",
   "metadata": {},
   "source": [
    "# Package Name"
   ]
  },
  {
   "cell_type": "code",
   "execution_count": 2,
   "id": "d20ad2c5-254f-4fd3-906a-990e32c6c2d9",
   "metadata": {},
   "outputs": [],
   "source": [
    "import random"
   ]
  },
  {
   "cell_type": "code",
   "execution_count": 3,
   "id": "a688f6ac-8fd0-44cc-9f99-c5163b51c41e",
   "metadata": {},
   "outputs": [
    {
     "data": {
      "text/plain": [
       "38"
      ]
     },
     "execution_count": 3,
     "metadata": {},
     "output_type": "execute_result"
    }
   ],
   "source": [
    "random.randint(1,100)"
   ]
  },
  {
   "cell_type": "code",
   "execution_count": 4,
   "id": "05dbca41-649a-4cbc-87d7-c151f159ec6b",
   "metadata": {},
   "outputs": [
    {
     "data": {
      "text/plain": [
       "0.8939966636005579"
      ]
     },
     "execution_count": 4,
     "metadata": {},
     "output_type": "execute_result"
    }
   ],
   "source": [
    "import math\n",
    "math.sin(90)"
   ]
  },
  {
   "cell_type": "code",
   "execution_count": 3,
   "id": "03c96c51-a8ff-4ebe-8da7-c72424eb571d",
   "metadata": {},
   "outputs": [
    {
     "data": {
      "text/plain": [
       "<module 'random' from 'c:\\\\Users\\\\LENOVO\\\\miniconda3\\\\envs\\\\python_bases\\\\Lib\\\\random.py'>"
      ]
     },
     "execution_count": 3,
     "metadata": {},
     "output_type": "execute_result"
    }
   ],
   "source": [
    "import random\n",
    "random"
   ]
  },
  {
   "cell_type": "code",
   "execution_count": 6,
   "id": "f557d3c4-916b-465b-92bd-0c6e242d0454",
   "metadata": {},
   "outputs": [
    {
     "data": {
      "text/plain": [
       "['BPF',\n",
       " 'LOG4',\n",
       " 'NV_MAGICCONST',\n",
       " 'RECIP_BPF',\n",
       " 'Random',\n",
       " 'SG_MAGICCONST',\n",
       " 'SystemRandom',\n",
       " 'TWOPI',\n",
       " '_ONE',\n",
       " '_Sequence',\n",
       " '__all__',\n",
       " '__builtins__',\n",
       " '__cached__',\n",
       " '__doc__',\n",
       " '__file__',\n",
       " '__loader__',\n",
       " '__name__',\n",
       " '__package__',\n",
       " '__spec__',\n",
       " '_accumulate',\n",
       " '_acos',\n",
       " '_bisect',\n",
       " '_ceil',\n",
       " '_cos',\n",
       " '_e',\n",
       " '_exp',\n",
       " '_fabs',\n",
       " '_floor',\n",
       " '_index',\n",
       " '_inst',\n",
       " '_isfinite',\n",
       " '_lgamma',\n",
       " '_log',\n",
       " '_log2',\n",
       " '_os',\n",
       " '_pi',\n",
       " '_random',\n",
       " '_repeat',\n",
       " '_sha512',\n",
       " '_sin',\n",
       " '_sqrt',\n",
       " '_test',\n",
       " '_test_generator',\n",
       " '_urandom',\n",
       " '_warn',\n",
       " 'betavariate',\n",
       " 'binomialvariate',\n",
       " 'choice',\n",
       " 'choices',\n",
       " 'expovariate',\n",
       " 'gammavariate',\n",
       " 'gauss',\n",
       " 'getrandbits',\n",
       " 'getstate',\n",
       " 'lognormvariate',\n",
       " 'normalvariate',\n",
       " 'paretovariate',\n",
       " 'randbytes',\n",
       " 'randint',\n",
       " 'random',\n",
       " 'randrange',\n",
       " 'sample',\n",
       " 'seed',\n",
       " 'setstate',\n",
       " 'shuffle',\n",
       " 'triangular',\n",
       " 'uniform',\n",
       " 'vonmisesvariate',\n",
       " 'weibullvariate']"
      ]
     },
     "execution_count": 6,
     "metadata": {},
     "output_type": "execute_result"
    }
   ],
   "source": [
    "dir(random)"
   ]
  },
  {
   "cell_type": "code",
   "execution_count": 7,
   "id": "5d38513a-86e2-4614-8443-f488d3667923",
   "metadata": {},
   "outputs": [],
   "source": [
    "# we imported packages\n",
    "# we have seen where the packages are located"
   ]
  },
  {
   "cell_type": "code",
   "execution_count": 6,
   "id": "0e318675-015b-46b3-829a-82fe27c05f55",
   "metadata": {},
   "outputs": [],
   "source": [
    "#package name \"keyword\"\n",
    "import keyword"
   ]
  },
  {
   "cell_type": "code",
   "execution_count": 7,
   "id": "51352b7b-b42c-4b3d-b1f8-7f6adff1aecb",
   "metadata": {},
   "outputs": [
    {
     "data": {
      "text/plain": [
       "['__all__',\n",
       " '__builtins__',\n",
       " '__cached__',\n",
       " '__doc__',\n",
       " '__file__',\n",
       " '__loader__',\n",
       " '__name__',\n",
       " '__package__',\n",
       " '__spec__',\n",
       " 'iskeyword',\n",
       " 'issoftkeyword',\n",
       " 'kwlist',\n",
       " 'softkwlist']"
      ]
     },
     "execution_count": 7,
     "metadata": {},
     "output_type": "execute_result"
    }
   ],
   "source": [
    "dir(keyword)"
   ]
  },
  {
   "cell_type": "code",
   "execution_count": 8,
   "id": "8c2042ae-b5ec-4654-bfda-ef4759e7f602",
   "metadata": {},
   "outputs": [
    {
     "data": {
      "text/plain": [
       "['False',\n",
       " 'None',\n",
       " 'True',\n",
       " 'and',\n",
       " 'as',\n",
       " 'assert',\n",
       " 'async',\n",
       " 'await',\n",
       " 'break',\n",
       " 'class',\n",
       " 'continue',\n",
       " 'def',\n",
       " 'del',\n",
       " 'elif',\n",
       " 'else',\n",
       " 'except',\n",
       " 'finally',\n",
       " 'for',\n",
       " 'from',\n",
       " 'global',\n",
       " 'if',\n",
       " 'import',\n",
       " 'in',\n",
       " 'is',\n",
       " 'lambda',\n",
       " 'nonlocal',\n",
       " 'not',\n",
       " 'or',\n",
       " 'pass',\n",
       " 'raise',\n",
       " 'return',\n",
       " 'try',\n",
       " 'while',\n",
       " 'with',\n",
       " 'yield']"
      ]
     },
     "execution_count": 8,
     "metadata": {},
     "output_type": "execute_result"
    }
   ],
   "source": [
    "keyword.kwlist"
   ]
  },
  {
   "cell_type": "code",
   "execution_count": null,
   "id": "8893599e-4ffc-4b6c-af1c-0d1c8adda84d",
   "metadata": {},
   "outputs": [],
   "source": [
    "dir(__builtins__)"
   ]
  },
  {
   "cell_type": "code",
   "execution_count": null,
   "id": "405422f2",
   "metadata": {},
   "outputs": [],
   "source": []
  }
 ],
 "metadata": {
  "kernelspec": {
   "display_name": "Python 3 (ipykernel)",
   "language": "python",
   "name": "python3"
  },
  "language_info": {
   "codemirror_mode": {
    "name": "ipython",
    "version": 3
   },
   "file_extension": ".py",
   "mimetype": "text/x-python",
   "name": "python",
   "nbconvert_exporter": "python",
   "pygments_lexer": "ipython3",
   "version": "3.12.6"
  }
 },
 "nbformat": 4,
 "nbformat_minor": 5
}
