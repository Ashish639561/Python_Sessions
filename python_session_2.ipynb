{
 "cells": [
  {
   "cell_type": "markdown",
   "id": "55438025-1c11-48ce-b240-bb06f95107c9",
   "metadata": {},
   "source": [
    "# Variables"
   ]
  },
  {
   "cell_type": "markdown",
   "id": "a59feb17-6eea-4a69-a992-7e82ca66c2ad",
   "metadata": {},
   "source": [
    "- variable term vary\n",
    "\n",
    "- you want to save some values at some place,that place is called variables\n",
    "\n",
    "- variables and constant"
   ]
  },
  {
   "cell_type": "code",
   "execution_count": 1,
   "id": "8426dadc-b235-4ba2-a3c1-b5e250033763",
   "metadata": {},
   "outputs": [
    {
     "data": {
      "text/plain": [
       "100"
      ]
     },
     "execution_count": 1,
     "metadata": {},
     "output_type": "execute_result"
    }
   ],
   "source": [
    "number = 100 #100 value is stored in variable called number\n",
    "number #so here number is a variable"
   ]
  },
  {
   "cell_type": "code",
   "execution_count": 2,
   "id": "19de2b98-cd91-4079-abf3-8f740f2de8c8",
   "metadata": {},
   "outputs": [
    {
     "data": {
      "text/plain": [
       "200"
      ]
     },
     "execution_count": 2,
     "metadata": {},
     "output_type": "execute_result"
    }
   ],
   "source": [
    "number = 200\n",
    "number"
   ]
  },
  {
   "cell_type": "markdown",
   "id": "c5aed40a-5c1b-4dc4-9d83-79cfc24847aa",
   "metadata": {},
   "source": [
    "**Rules to define variables**"
   ]
  },
  {
   "cell_type": "code",
   "execution_count": 3,
   "id": "7a4fe8ff-6c64-411a-9534-066bdcab91ca",
   "metadata": {},
   "outputs": [
    {
     "data": {
      "text/plain": [
       "100"
      ]
     },
     "execution_count": 3,
     "metadata": {},
     "output_type": "execute_result"
    }
   ],
   "source": [
    "# using uppercase\n",
    "NUMBER = 100\n",
    "NUMBER"
   ]
  },
  {
   "cell_type": "code",
   "execution_count": 4,
   "id": "f9ed375b-bd8e-468a-ad35-ee96a2cb46fa",
   "metadata": {},
   "outputs": [
    {
     "data": {
      "text/plain": [
       "100"
      ]
     },
     "execution_count": 4,
     "metadata": {},
     "output_type": "execute_result"
    }
   ],
   "source": [
    "#usig lowercase\n",
    "number= 100\n",
    "number"
   ]
  },
  {
   "cell_type": "code",
   "execution_count": 5,
   "id": "fe5813e5-2e45-43f3-a0b1-66e2fcebd21a",
   "metadata": {},
   "outputs": [
    {
     "data": {
      "text/plain": [
       "100"
      ]
     },
     "execution_count": 5,
     "metadata": {},
     "output_type": "execute_result"
    }
   ],
   "source": [
    "#using both uppercase and lowecase\n",
    "numBER=100\n",
    "numBER"
   ]
  },
  {
   "cell_type": "markdown",
   "id": "9d296f25-a6fc-4aa1-bf8d-e759c9d29eab",
   "metadata": {},
   "source": [
    "# using numbers\n",
    "#123=100\n",
    "123    \n",
    "#it will genearte error"
   ]
  },
  {
   "cell_type": "code",
   "execution_count": 6,
   "id": "b8e1440f-17ee-4278-b12e-9619840f67f8",
   "metadata": {},
   "outputs": [
    {
     "data": {
      "text/plain": [
       "100"
      ]
     },
     "execution_count": 6,
     "metadata": {},
     "output_type": "execute_result"
    }
   ],
   "source": [
    "#using number as suffix\n",
    "number_1=100\n",
    "number_1"
   ]
  },
  {
   "cell_type": "code",
   "execution_count": 7,
   "id": "0e9057d4-fe9c-42b1-860a-c2c5c406a3a0",
   "metadata": {},
   "outputs": [
    {
     "ename": "SyntaxError",
     "evalue": "invalid decimal literal (1136714446.py, line 2)",
     "output_type": "error",
     "traceback": [
      "\u001b[1;36m  Cell \u001b[1;32mIn[7], line 2\u001b[1;36m\u001b[0m\n\u001b[1;33m    12number=100\u001b[0m\n\u001b[1;37m     ^\u001b[0m\n\u001b[1;31mSyntaxError\u001b[0m\u001b[1;31m:\u001b[0m invalid decimal literal\n"
     ]
    }
   ],
   "source": [
    "#number as preffix\n",
    "12number=100\n",
    "12number     #it will generate error"
   ]
  },
  {
   "cell_type": "code",
   "execution_count": 22,
   "id": "1aaf6db2-661c-4130-9c6e-2f5950ad3daf",
   "metadata": {},
   "outputs": [
    {
     "name": "stderr",
     "output_type": "stream",
     "text": [
      "UsageError: Line magic function `%number=100` not found.\n"
     ]
    }
   ],
   "source": [
    "#using special characters as preffix\n",
    "%number=100\n",
    "%number       #gernerate error"
   ]
  },
  {
   "cell_type": "code",
   "execution_count": 8,
   "id": "b93ffedd-0920-458a-ae66-506c47e3c2a5",
   "metadata": {},
   "outputs": [
    {
     "ename": "SyntaxError",
     "evalue": "invalid syntax (2517806188.py, line 3)",
     "output_type": "error",
     "traceback": [
      "\u001b[1;36m  Cell \u001b[1;32mIn[8], line 3\u001b[1;36m\u001b[0m\n\u001b[1;33m    number%   #generate error\u001b[0m\n\u001b[1;37m              ^\u001b[0m\n\u001b[1;31mSyntaxError\u001b[0m\u001b[1;31m:\u001b[0m invalid syntax\n"
     ]
    }
   ],
   "source": [
    "#*using special characters as suffix*\n",
    "number%=100\n",
    "number%   #generateeroor"
   ]
  },
  {
   "cell_type": "code",
   "execution_count": 26,
   "id": "3d5f936f-595d-4bdb-adcb-3b81c9614ac3",
   "metadata": {},
   "outputs": [
    {
     "data": {
      "text/plain": [
       "100"
      ]
     },
     "execution_count": 26,
     "metadata": {},
     "output_type": "execute_result"
    }
   ],
   "source": [
    "#only Underscore(_) allowed as special characters as variables in python\n",
    "_number=100\n",
    "_number"
   ]
  },
  {
   "cell_type": "markdown",
   "id": "7d75c9a9-9f99-47d7-a2d6-40a91c682425",
   "metadata": {},
   "source": [
    "*keywords also will fail*\n",
    "\n",
    "        if=100\n",
    "        if  #generate error"
   ]
  },
  {
   "cell_type": "code",
   "execution_count": 30,
   "id": "62c0a187-1864-4127-bfe3-e3079331791f",
   "metadata": {},
   "outputs": [
    {
     "data": {
      "text/plain": [
       "100"
      ]
     },
     "execution_count": 30,
     "metadata": {},
     "output_type": "execute_result"
    }
   ],
   "source": [
    "sum=100\n",
    "sum"
   ]
  },
  {
   "cell_type": "markdown",
   "id": "6fcfdbba-a43d-45e5-b7c5-21665032acb3",
   "metadata": {},
   "source": [
    "**Note:**\n",
    "\n",
    "    sum is a math operater don't use as variable name it could generate error near future"
   ]
  },
  {
   "cell_type": "code",
   "execution_count": 38,
   "id": "b12573f7-1fb4-445d-8da9-36cfc22eb225",
   "metadata": {},
   "outputs": [
    {
     "ename": "SyntaxError",
     "evalue": "invalid syntax (1851575374.py, line 2)",
     "output_type": "error",
     "traceback": [
      "\u001b[1;36m  Cell \u001b[1;32mIn[38], line 2\u001b[1;36m\u001b[0m\n\u001b[1;33m    number one = 100\u001b[0m\n\u001b[1;37m           ^\u001b[0m\n\u001b[1;31mSyntaxError\u001b[0m\u001b[1;31m:\u001b[0m invalid syntax\n"
     ]
    }
   ],
   "source": [
    "#spaces is also not allowed\n",
    "number one = 100\n",
    "number one  #generate error"
   ]
  },
  {
   "cell_type": "markdown",
   "id": "98f547a8-3a05-45ce-b2b4-aec3c1b882cb",
   "metadata": {},
   "source": [
    "############################### LEVEL 1 ##############################\n",
    "\n",
    "        - 1).Basic Syntax\n",
    "        - 2).Variables\n",
    "        - 3).Python Packages Information\n",
    "        - 4).Basic Python Code\n",
    "        - 5).Conditional Statements\n",
    "        - 6).Functions\n",
    "        - 7).Loops\n",
    "\n",
    "############################## LEVEL 2 ###############################\n",
    "\n",
    "        - 1).Strings\n",
    "        - 2).List\n",
    "        - 3).Dictionary\n",
    "        - 4).Tuples\n",
    "        - 5).Sets\n",
    "        - 6).File Handlimg Sessions\n",
    "\n",
    "############################# LEVEL 3 ################################\n",
    "\n",
    "        - 1).Oops Concepts\n",
    "        - 2).How to create our own packages\n",
    "        - 3).Flask Apps"
   ]
  }
 ],
 "metadata": {
  "kernelspec": {
   "display_name": "python_bases",
   "language": "python",
   "name": "python3"
  },
  "language_info": {
   "codemirror_mode": {
    "name": "ipython",
    "version": 3
   },
   "file_extension": ".py",
   "mimetype": "text/x-python",
   "name": "python",
   "nbconvert_exporter": "python",
   "pygments_lexer": "ipython3",
   "version": "3.12.6"
  }
 },
 "nbformat": 4,
 "nbformat_minor": 5
}
