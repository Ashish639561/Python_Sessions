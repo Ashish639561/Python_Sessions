{
 "cells": [
  {
   "cell_type": "code",
   "execution_count": 1,
   "metadata": {},
   "outputs": [
    {
     "name": "stdout",
     "output_type": "stream",
     "text": [
      "total amount you have to pay is 2300\n"
     ]
    }
   ],
   "source": [
    "basic_salary = eval(input(\"enter your salary:\"))\n",
    "da_amt = eval(input(\"enter da amount:\"))\n",
    "hra_amt = eval(input(\"enter hra amount:\"))\n",
    "total_pay = basic_salary + da_amt + hra_amt\n",
    "print(\"total amount you have to pay is {}\".format(total_pay))"
   ]
  },
  {
   "cell_type": "code",
   "execution_count": 3,
   "metadata": {},
   "outputs": [
    {
     "name": "stdout",
     "output_type": "stream",
     "text": [
      "your salary is 10000 and the tax 100,you have to give 10000.0\n"
     ]
    }
   ],
   "source": [
    "your_salary = eval(input('enter your salary:'))\n",
    "tax_amt = eval(input('enter amount to tax'))\n",
    "result = your_salary*(tax_amt/100)\n",
    "print(f'your salary is {your_salary} and the tax {tax_amt},you have to give {result}')"
   ]
  },
  {
   "cell_type": "markdown",
   "metadata": {},
   "source": [
    "**$ ask   the  user  to  take  value  from  1  to  100 $**\n",
    "**$ perform  the  sqaure  of  that  number $**"
   ]
  },
  {
   "cell_type": "code",
   "execution_count": 5,
   "metadata": {},
   "outputs": [
    {
     "name": "stdout",
     "output_type": "stream",
     "text": [
      "the number is not allowed\n"
     ]
    }
   ],
   "source": [
    "num = eval(input(\"enter the num b/w 1 to 100:\"))\n",
    "if num<=100:\n",
    "    print(pow(num,2))\n",
    "else:\n",
    "    print('the number is not allowed')"
   ]
  },
  {
   "cell_type": "markdown",
   "metadata": {},
   "source": [
    "### w.a.p to ask the user get a random value b/w from 1 to 100\n",
    "__print the square of that number__"
   ]
  },
  {
   "cell_type": "code",
   "execution_count": 7,
   "metadata": {},
   "outputs": [
    {
     "name": "stdout",
     "output_type": "stream",
     "text": [
      "23\n",
      "529\n"
     ]
    }
   ],
   "source": [
    "import random\n",
    "x = random.randint(1,100)\n",
    "print(x)\n",
    "print(pow(x,2))"
   ]
  },
  {
   "cell_type": "markdown",
   "metadata": {},
   "source": [
    "### ask the user enter a distance,ask the user enter a rate per distance\n",
    "*calculate total charge* "
   ]
  },
  {
   "cell_type": "code",
   "execution_count": 9,
   "metadata": {},
   "outputs": [
    {
     "name": "stdout",
     "output_type": "stream",
     "text": [
      "total amount to pay is 8000💲 of distance 400 with rate 20\n"
     ]
    }
   ],
   "source": [
    "distance = eval(input('enter total distance:'))\n",
    "rate = eval(input('enter the rate per km'))\n",
    "total_charge = rate*distance\n",
    "print('total amount to pay is {}💲 of distance {} with rate {}'.format(total_charge,distance,rate))"
   ]
  },
  {
   "cell_type": "code",
   "execution_count": null,
   "metadata": {},
   "outputs": [],
   "source": [
    "#### write a program to ask the user to enter the amount in dollars -->100\n",
    "#### managr:here dollars are not allowed\n",
    "#### user: what allowed\n",
    "#### manager: rupee\n",
    "#### ask the user to enter the one dollar into rupee -->80\n",
    "#### total_amt = dollars * 80\n",
    "#### manager: thanks\n"
   ]
  },
  {
   "cell_type": "code",
   "execution_count": 14,
   "metadata": {},
   "outputs": [
    {
     "name": "stdout",
     "output_type": "stream",
     "text": [
      "1000 dollars\n",
      "manager:sir dollar is not allowed\n",
      "user:then what allowed\n",
      "manager:only rupee\n",
      "total amt in rupee 80000 rs\n",
      "manager:thanks😅 sir\n"
     ]
    }
   ],
   "source": [
    "import time\n",
    "amt=eval(input('enter amount to pay in dollars:'))\n",
    "time.sleep(2)\n",
    "print(amt,'dollars')\n",
    "print('manager:sir dollar is not allowed')\n",
    "print('user:then what allowed')\n",
    "print('manager:only rupee')        \n",
    "value = eval(input('enter the value of 1 dollar in rupee'))\n",
    "total_amt = amt * value\n",
    "print('total amt in rupee',total_amt,'rs')\n",
    "print('manager:thanks😅 sir')"
   ]
  },
  {
   "cell_type": "markdown",
   "metadata": {},
   "source": [
    "## Possible errors\n",
    "- Name error\n",
    "- Syntax Error\n",
    "- Zero Divison Error\n",
    "- Type Error Unsupported Operand type \n",
    "- missing parrenthesis"
   ]
  },
  {
   "cell_type": "markdown",
   "metadata": {},
   "source": [
    "**try except** \n",
    "- there are two blocks\n",
    "- one try block another one is exception block \n",
    "- your code will be in try block\n",
    "- error will execute in except block\n",
    "- indentation contain 4 spaces"
   ]
  },
  {
   "cell_type": "code",
   "execution_count": 4,
   "metadata": {},
   "outputs": [
    {
     "name": "stdout",
     "output_type": "stream",
     "text": [
      "divide with 0 is not allowed division by zero\n"
     ]
    }
   ],
   "source": [
    "try:\n",
    "    num1 = 10\n",
    "    num2 = 0\n",
    "    result = num1/num2\n",
    "except Exception as e:\n",
    "    print('divide with 0 is not allowed',e)\n",
    "else:\n",
    "    print(result)\n",
    "\n"
   ]
  },
  {
   "cell_type": "code",
   "execution_count": 10,
   "metadata": {},
   "outputs": [
    {
     "name": "stdout",
     "output_type": "stream",
     "text": [
      "name 'dd' is not defined enter only number not string\n"
     ]
    }
   ],
   "source": [
    "try:\n",
    "    number = eval(input(\"enter the number for square:\"))\n",
    "    result = pow(number,2)\n",
    "except NameError as e:\n",
    "    print(e,f'enter only number not string')\n",
    "else:\n",
    "    print('the result is',result)"
   ]
  },
  {
   "cell_type": "code",
   "execution_count": 22,
   "metadata": {},
   "outputs": [
    {
     "name": "stdout",
     "output_type": "stream",
     "text": [
      "********************\n",
      "hello\n",
      "&&&&&&&&&&&&&&&&&&&&\n",
      "9\n",
      "python\n",
      "45\n",
      "18\n"
     ]
    }
   ],
   "source": [
    "print(\"*\"*20)\n",
    "print('hello')\n",
    "print('&'*20)\n",
    "try:\n",
    "    num11 = eval(input('enter the number:'))\n",
    "    result1 = num11 * num11\n",
    "except Exception as e:\n",
    "    print(e)\n",
    "else:\n",
    "    print(result1)\n",
    "print('python')\n",
    "print(45)\n",
    "print(18)"
   ]
  },
  {
   "cell_type": "markdown",
   "metadata": {},
   "source": [
    "write a program,get random number from user between 1 to 200\n",
    "        print won,if number is between 10 to 99\n",
    "            otherwise you lost"
   ]
  },
  {
   "cell_type": "code",
   "execution_count": 31,
   "metadata": {},
   "outputs": [
    {
     "name": "stdout",
     "output_type": "stream",
     "text": [
      "71\n",
      "you won\n"
     ]
    }
   ],
   "source": [
    "import random\n",
    "try:\n",
    "    num_ = random.randint(1,200)\n",
    "    print(num_)\n",
    "except (NameError,SyntaxError) as e:\n",
    "    print(e)\n",
    "else:\n",
    "    if 10 < num_ < 99:\n",
    "        print('you won')\n",
    "    else:\n",
    "        print('you lost')"
   ]
  },
  {
   "cell_type": "markdown",
   "metadata": {},
   "source": [
    "write a program,ask the user to input a number,if a number >=0,it is positive number,otherwise it is negative number"
   ]
  },
  {
   "cell_type": "code",
   "execution_count": 42,
   "metadata": {},
   "outputs": [
    {
     "name": "stdout",
     "output_type": "stream",
     "text": [
      "78\n",
      "it's positive number\n"
     ]
    }
   ],
   "source": [
    "try:\n",
    "    _num = eval(input('enter a number:'))\n",
    "    print(_num)\n",
    "except Exception as e:\n",
    "    print(e)\n",
    "else:\n",
    "    if 0 <= _num:\n",
    "        print('it\\'s positive number')\n",
    "    else:\n",
    "        print('it\\'s negative number')"
   ]
  },
  {
   "cell_type": "markdown",
   "metadata": {},
   "source": [
    "wap to take input the percentage from user,if percentage>90 print a,70 to 90 print b,50 to 70 print c,otherwise d"
   ]
  },
  {
   "cell_type": "code",
   "execution_count": 67,
   "metadata": {},
   "outputs": [
    {
     "name": "stdout",
     "output_type": "stream",
     "text": [
      "-10\n",
      "you have grade d\n"
     ]
    }
   ],
   "source": [
    "try:\n",
    "    _num_= eval(input('enter a number:'))\n",
    "    print(_num_)\n",
    "except Exception as e:\n",
    "    print(e)\n",
    "else:\n",
    "    if _num_ >= 90:\n",
    "        print('you have grade a')\n",
    "    elif 70 <= _num_ < 90:\n",
    "        print(_num_,'you have grade b')\n",
    "    elif 50 <= _num_ < 70:\n",
    "        print(_num_,'you have grade c')\n",
    "    else:\n",
    "        print('you have grade d')\n"
   ]
  },
  {
   "cell_type": "markdown",
   "metadata": {},
   "source": [
    "above code is good,but not good way to write like that"
   ]
  },
  {
   "cell_type": "code",
   "execution_count": null,
   "metadata": {},
   "outputs": [],
   "source": [
    "try:\n",
    "    _num_= eval(input('enter a number:'))\n",
    "    print(_num_)\n",
    "except Exception as e:\n",
    "    print(e)\n",
    "else:\n",
    "    if _num_>=90:\n",
    "        print('grade A')\n",
    "    elif _num_>=70:\n",
    "        print('grade B')\n",
    "    elif _num_>=50:\n",
    "        print('grade C')\n",
    "    else:\n",
    "        print('grade d')"
   ]
  },
  {
   "cell_type": "markdown",
   "metadata": {},
   "source": [
    "**write a program,ask the user enter distance in km**\n",
    "-  if distance is more then 10km:print charge is 100rs\n",
    "-  if distance is b/w 7 to 10km:print charge is 70rs\n",
    "-  if distance is b/w 4 to 7 km:print charge is 40rs\n",
    "-  otherwise charge is 30rs\n",
    "     "
   ]
  },
  {
   "cell_type": "code",
   "execution_count": null,
   "metadata": {},
   "outputs": [
    {
     "name": "stdout",
     "output_type": "stream",
     "text": [
      "3\n",
      "you have to pay 30rs\n"
     ]
    }
   ],
   "source": [
    "try:\n",
    "    _num12 = eval(input('enter a number:'))\n",
    "    print(_num12)\n",
    "except Exception as e:\n",
    "    print(e)\n",
    "else:\n",
    "    if _num12 >= 10:\n",
    "        print('you have to pay 100 rs')\n",
    "    elif _num12 >= 7:\n",
    "        print('you have to pay 70rs')\n",
    "    elif _num12 >= 4:\n",
    "        print('you have to pay 40rs')\n",
    "    else:\n",
    "        print('you have to pay 30rs')\n"
   ]
  },
  {
   "cell_type": "markdown",
   "metadata": {},
   "source": [
    "$write a program to ak the user to enter the salary$\n",
    "-  if salary is more then 10 lakhs,enter the user tax percentage:10%:print tax paid\n",
    "-  if salary is b/w 7 to 10 lakhs,enter the user tax percentage:5%:print tax paid\n",
    "-  if salary is b/w 4 to 7 lakhs,enter the user tax percentage:2.5%:print tax paid\n",
    "-  otherwise print no tax required"
   ]
  },
  {
   "cell_type": "code",
   "execution_count": null,
   "metadata": {},
   "outputs": [],
   "source": [
    "def tax_amt(sal,tax1):\n",
    "    try:\n",
    "        tax_paid = (sal * tax1)/100\n",
    "        return tax_paid\n",
    "    except Exception as e:\n",
    "        return f'someing thing wrong,{e}'\n",
    "try:\n",
    "    salary = int(input('enter the salary:'))\n",
    "    print(salary)\n",
    "except Exception as e:\n",
    "    print(e)\n",
    "else:\n",
    "    if salary>=1000000:\n",
    "        print('you have to pay 10 % tax on',salary)\n",
    "        tax = 10\n",
    "        amt = tax_amt(salary,tax)\n",
    "        print('you have paid this tax',amt)\n",
    "    elif salary>=700000:\n",
    "        print('you have to pay 10 % tax on',salary)\n",
    "        tax = 5\n",
    "        amt = tax_amt(salary,tax)\n",
    "        print('you have paid this tax',amt)\n",
    "    elif salary>=400000:\n",
    "        print('you have to pay 10 % tax on',salary)\n",
    "        tax = 2.5\n",
    "        amt = tax_amt(salary,tax)\n",
    "        print('you have paid this tax',amt)\n",
    "    else:\n",
    "        print('you don\\'t have to pay any tax on this',salary)"
   ]
  },
  {
   "cell_type": "markdown",
   "metadata": {},
   "source": [
    "_wap ask the user to enter the operation he wants(add/sub/mul/div)_\n",
    "- ask the user enter two number for any operation,he wants\n",
    "- *if operation is addition so print addition of two numbers*\n",
    "- if operation is subtraction so print subtraction of two numbers\n",
    "- if operation is multiplication so print multiplication of two numbers\n",
    "- if operation is divison so print division of two numbers"
   ]
  },
  {
   "cell_type": "code",
   "execution_count": null,
   "metadata": {},
   "outputs": [],
   "source": [
    "try:\n",
    "    opr = input('enter the opeartion sign you want:')\n",
    "    if opr not in '+-*/':\n",
    "        raise Exception('this is not valid operator')\n",
    "except Exception as e:\n",
    "    print(f'this operation has some error {e}')\n",
    "else:\n",
    "    a,b = [int(x) for x in input('enter the number:').split(' ')]\n",
    "    print(a,b)\n",
    "    if opr == '+':\n",
    "        result_ = a+b\n",
    "        print('the addition of two numbers',result_)\n",
    "    elif opr == '-':\n",
    "        result_= a-b\n",
    "        print('the subtraction of two numbers',result_)\n",
    "    elif opr == '*':\n",
    "        result_= a*b\n",
    "        print('the multiplication of two numbers',result_)\n",
    "    elif opr == '/':\n",
    "        result_ = a/b\n",
    "        print('the division of two numbers',result_)\n",
    "    else:\n",
    "        print('something weong')"
   ]
  },
  {
   "cell_type": "markdown",
   "metadata": {},
   "source": [
    "*wap ask the user input a number*\n",
    "- if the number greater then zero:\n",
    "    - if th number == 0:print it is a zero number \n",
    "    - else:print it is positive number\n",
    "- otherwise print: it is negative number"
   ]
  },
  {
   "cell_type": "code",
   "execution_count": null,
   "metadata": {},
   "outputs": [],
   "source": [
    "try:\n",
    "    digit = int(input('enter a number:'))\n",
    "    if digit >=0:\n",
    "        if digit == 0:\n",
    "            print('its a 0 number')\n",
    "        else:\n",
    "            print('it\\'s positive number' )\n",
    "    else:\n",
    "        print('it\\'s negative number')\n",
    "except Exception as e:\n",
    "    print('please inter only number')"
   ]
  },
  {
   "cell_type": "markdown",
   "metadata": {},
   "source": [
    "*wap ask the user enter gender either male or female*\n",
    "- if gender equal to male:\n",
    "  - ask the user to enter age\n",
    "    - if age>=60 print:senior citiezen\n",
    "    - if age b/w 30 to 60 print:middle aged man\n",
    "    - if age b/w 20 to 30 print:young boy\n",
    "    - if age b/w 13 to 20 print:teenage boy\n",
    "    - otherwise boy\n",
    "- if gender equal to female:\n",
    "    - ask the user to enter age\n",
    "      - if age>=60 print:senior citiezen\n",
    "      - if age b/w 30 to 60 print:middle aged women\n",
    "      - if age b/w 20 to 30 print:young girl\n",
    "      - if age b/w 13 to 20 print:teenage girl\n",
    "      - otherwise girl"
   ]
  },
  {
   "cell_type": "code",
   "execution_count": 24,
   "metadata": {},
   "outputs": [
    {
     "name": "stdout",
     "output_type": "stream",
     "text": [
      "you are a middle aged man\n"
     ]
    }
   ],
   "source": [
    "try:\n",
    "    gender=input('enter your gender(male/female):')\n",
    "    if gender == 'male':\n",
    "        age = int(input('enter your age:'))\n",
    "        if age>=60:\n",
    "            print('you are a senior citiezen')\n",
    "        elif age>=30:\n",
    "            print('you are a middle aged man')\n",
    "        elif age>=20:\n",
    "            print('you are a young man')\n",
    "        elif age>=13:\n",
    "            print('you are a teenage boy')\n",
    "        else:\n",
    "            print('you are a boy')\n",
    "    elif gender == 'female':\n",
    "        age = int(input('enter your age:'))\n",
    "        if age>=60:\n",
    "            print('you are a senior citiezen')\n",
    "        elif age>=30:\n",
    "            print('you are a middle aged women')\n",
    "        elif age>=20:\n",
    "            print('you are a young women')\n",
    "        elif age>=13:\n",
    "            print('you are a teenage girl')\n",
    "        else:\n",
    "            print('you are a girl')\n",
    "    else:\n",
    "        print('invalid gender')\n",
    "except Exception as e:\n",
    "    print('invalid error')\n",
    "\n"
   ]
  },
  {
   "cell_type": "markdown",
   "metadata": {},
   "source": [
    "_find the max of 3 numbers given by user_"
   ]
  },
  {
   "cell_type": "code",
   "execution_count": 30,
   "metadata": {},
   "outputs": [
    {
     "name": "stdout",
     "output_type": "stream",
     "text": [
      "5\n",
      "5\n",
      "5\n",
      "enter good way\n"
     ]
    }
   ],
   "source": [
    "a,b,c=[int(x) for x in input('enter 3 numbers seperated by comma').split(',')]\n",
    "print(a,b,c,sep='\\n')\n",
    "if a==b==c:\n",
    "    print('enter good way')\n",
    "else:\n",
    "    greatest = a if b<a>c else b if b>c else c\n",
    "    print(greatest,' is greatest')"
   ]
  }
 ],
 "metadata": {
  "kernelspec": {
   "display_name": "python_bases",
   "language": "python",
   "name": "python3"
  },
  "language_info": {
   "codemirror_mode": {
    "name": "ipython",
    "version": 3
   },
   "file_extension": ".py",
   "mimetype": "text/x-python",
   "name": "python",
   "nbconvert_exporter": "python",
   "pygments_lexer": "ipython3",
   "version": "3.12.6"
  }
 },
 "nbformat": 4,
 "nbformat_minor": 2
}
